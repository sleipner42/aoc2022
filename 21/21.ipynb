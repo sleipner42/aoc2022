{
 "cells": [
  {
   "cell_type": "code",
   "execution_count": 272,
   "metadata": {},
   "outputs": [],
   "source": [
    "from __future__ import annotations\n",
    "from tqdm import tqdm\n",
    "from dataclasses import dataclass\n",
    "import matplotlib.pyplot as plt\n",
    "import numpy as np\n",
    "import seaborn as sns\n",
    "sns.set()\n",
    "\n",
    "with open('data.txt') as file:\n",
    "    data = file.read().splitlines()"
   ]
  },
  {
   "cell_type": "code",
   "execution_count": 273,
   "metadata": {},
   "outputs": [
    {
     "data": {
      "text/plain": [
       "80326079210554.0"
      ]
     },
     "execution_count": 273,
     "metadata": {},
     "output_type": "execute_result"
    }
   ],
   "source": [
    "numbers = {}\n",
    "left = []\n",
    "\n",
    "for line in data:\n",
    "    var, exp = line.split(':')\n",
    "    \n",
    "    if exp.strip().isnumeric():\n",
    "        numbers[var] = int(exp)\n",
    "    else:\n",
    "        first, op, scnd = exp.split()\n",
    "        left.append((var, (first, op, scnd)))\n",
    "\n",
    "\n",
    "while len(left) > 0:\n",
    "    var, exp = left.pop(0)\n",
    "\n",
    "    if exp[0] in numbers.keys() and exp[2] in numbers.keys():\n",
    "        match exp[1]:\n",
    "            case '+':\n",
    "                numbers[var] = numbers[exp[0]] + numbers[exp[2]]\n",
    "            case '-':\n",
    "                numbers[var] = numbers[exp[0]] - numbers[exp[2]]\n",
    "            case '*':\n",
    "                numbers[var] = numbers[exp[0]] * numbers[exp[2]]\n",
    "            case '/':\n",
    "                numbers[var] = numbers[exp[0]] / numbers[exp[2]]\n",
    "    \n",
    "    else:\n",
    "        left.append((var, exp))\n",
    "\n",
    "numbers['root']"
   ]
  },
  {
   "cell_type": "code",
   "execution_count": 274,
   "metadata": {},
   "outputs": [
    {
     "data": {
      "text/plain": [
       "3617613952378.0"
      ]
     },
     "execution_count": 274,
     "metadata": {},
     "output_type": "execute_result"
    }
   ],
   "source": [
    "exps = {}\n",
    "left = []\n",
    "\n",
    "for line in data:\n",
    "    var, exp = line.split(':')\n",
    "\n",
    "    if var == 'humn':\n",
    "        exps[var] = \"HUMN\"\n",
    "    elif exp.strip().isnumeric():\n",
    "        exps[var] = int(exp)\n",
    "    else:\n",
    "        first, op, scnd = exp.split()\n",
    "        exps[var] = (first, op, scnd)\n",
    "\n",
    "def replace(exps, root):\n",
    "    if isinstance(root, tuple):\n",
    "        new_tuple = []\n",
    "        for a in root:\n",
    "            new_tuple.append(replace(exps, a))\n",
    "        return tuple(new_tuple)\n",
    "    elif isinstance(root, str):\n",
    "        if root in ['-', '+', '*', '/']:\n",
    "            return root\n",
    "        elif root == \"HUMN\":\n",
    "            return root\n",
    "        else:\n",
    "            return replace(exps, exps[root])\n",
    "    else:\n",
    "        return root\n",
    "\n",
    "def eval_expression(exp, humn_replace=None):\n",
    "    if isinstance(exp, tuple):\n",
    "        match exp[1]:\n",
    "            case '+':\n",
    "                return eval_expression(exp[0], humn_replace) + eval_expression(exp[2], humn_replace)\n",
    "            case '-':\n",
    "                return eval_expression(exp[0], humn_replace) - eval_expression(exp[2], humn_replace)\n",
    "            case '*':\n",
    "                return eval_expression(exp[0], humn_replace) * eval_expression(exp[2], humn_replace)\n",
    "            case '/':\n",
    "                return eval_expression(exp[0], humn_replace) / eval_expression(exp[2], humn_replace)\n",
    "    elif isinstance(exp, int):\n",
    "        return exp\n",
    "    else:\n",
    "        return humn_replace\n",
    "\n",
    "lhs = replace(exps, exps['root'][0])\n",
    "rhs = replace(exps, exps['root'][2])\n",
    "\n",
    "m = eval_expression(lhs, 0)\n",
    "k = (eval_expression(lhs, 10e12) - eval_expression(lhs, 0)) / 10e12\n",
    "(eval_expression(rhs) - m)/k"
   ]
  }
 ],
 "metadata": {
  "kernelspec": {
   "display_name": "Python 3",
   "language": "python",
   "name": "python3"
  },
  "language_info": {
   "codemirror_mode": {
    "name": "ipython",
    "version": 3
   },
   "file_extension": ".py",
   "mimetype": "text/x-python",
   "name": "python",
   "nbconvert_exporter": "python",
   "pygments_lexer": "ipython3",
   "version": "3.11.1"
  },
  "orig_nbformat": 4,
  "vscode": {
   "interpreter": {
    "hash": "21cb412c7ab3e231a2465a014a22826e8d2cd96df42ac20cbd8cdb7b7a3d1212"
   }
  }
 },
 "nbformat": 4,
 "nbformat_minor": 2
}
