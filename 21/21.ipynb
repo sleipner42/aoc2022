{
 "cells": [
  {
   "cell_type": "code",
   "execution_count": 184,
   "metadata": {},
   "outputs": [],
   "source": [
    "from __future__ import annotations\n",
    "from tqdm import tqdm\n",
    "from dataclasses import dataclass\n",
    "import matplotlib.pyplot as plt\n",
    "import numpy as np\n",
    "import seaborn as sns\n",
    "sns.set()\n",
    "\n",
    "with open('data.txt') as file:\n",
    "    data = file.read().splitlines()"
   ]
  },
  {
   "cell_type": "code",
   "execution_count": 163,
   "metadata": {},
   "outputs": [],
   "source": [
    "numbers = {}\n",
    "left = []\n",
    "\n",
    "for line in data:\n",
    "    var, exp = line.split(':')\n",
    "    \n",
    "    if exp.strip().isnumeric():\n",
    "        numbers[var] = int(exp)\n",
    "    else:\n",
    "        first, op, scnd = exp.split()\n",
    "        left.append((var, (first, op, scnd)))\n",
    "\n",
    "\n",
    "while len(left) > 0:\n",
    "    var, exp = left.pop(0)\n",
    "\n",
    "    if exp[0] in numbers.keys() and exp[2] in numbers.keys():\n",
    "        match exp[1]:\n",
    "            case '+':\n",
    "                numbers[var] = numbers[exp[0]] + numbers[exp[2]]\n",
    "            case '-':\n",
    "                numbers[var] = numbers[exp[0]] - numbers[exp[2]]\n",
    "            case '*':\n",
    "                numbers[var] = numbers[exp[0]] * numbers[exp[2]]\n",
    "            case '/':\n",
    "                numbers[var] = numbers[exp[0]] / numbers[exp[2]]\n",
    "    \n",
    "    else:\n",
    "        left.append((var, exp))"
   ]
  },
  {
   "cell_type": "code",
   "execution_count": 164,
   "metadata": {},
   "outputs": [],
   "source": [
    "exps = {}\n",
    "left = []\n",
    "\n",
    "for line in data:\n",
    "    var, exp = line.split(':')\n",
    "\n",
    "    if var == 'humn':\n",
    "        exps[var] = \"HUMN\"\n",
    "    elif exp.strip().isnumeric():\n",
    "        exps[var] = int(exp)\n",
    "    else:\n",
    "        first, op, scnd = exp.split()\n",
    "        exps[var] = (first, op, scnd)"
   ]
  },
  {
   "cell_type": "code",
   "execution_count": 165,
   "metadata": {},
   "outputs": [],
   "source": [
    "def replace(exps, root):\n",
    "    if isinstance(root, tuple):\n",
    "        new_tuple = []\n",
    "        for a in root:\n",
    "            new_tuple.append(replace(exps, a))\n",
    "        return tuple(new_tuple)\n",
    "    elif isinstance(root, str):\n",
    "        if root in ['-', '+', '*', '/']:\n",
    "            return root\n",
    "        elif root == \"HUMN\":\n",
    "            return root\n",
    "        else:\n",
    "            return replace(exps, exps[root])\n",
    "    else:\n",
    "        return root\n",
    "\n",
    "def eval_expression(exp, humn_replace=None):\n",
    "    if isinstance(exp, tuple):\n",
    "        match exp[1]:\n",
    "            case '+':\n",
    "                return eval_expression(exp[0], humn_replace) + eval_expression(exp[2], humn_replace)\n",
    "            case '-':\n",
    "                return eval_expression(exp[0], humn_replace) - eval_expression(exp[2], humn_replace)\n",
    "            case '*':\n",
    "                return eval_expression(exp[0], humn_replace) * eval_expression(exp[2], humn_replace)\n",
    "            case '/':\n",
    "                return eval_expression(exp[0], humn_replace) / eval_expression(exp[2], humn_replace)\n",
    "    elif isinstance(exp, int):\n",
    "        return exp\n",
    "    else:\n",
    "        return humn_replace\n",
    "\n",
    "lhs = replace(exps, exps['root'][0])\n",
    "rhs = replace(exps, exps['root'][2])"
   ]
  },
  {
   "cell_type": "code",
   "execution_count": 251,
   "metadata": {},
   "outputs": [
    {
     "name": "stderr",
     "output_type": "stream",
     "text": [
      "100%|██████████| 15/15 [00:00<00:00, 4122.03it/s]\n"
     ]
    },
    {
     "data": {
      "text/plain": [
       "<matplotlib.collections.LineCollection at 0x282399dd0>"
      ]
     },
     "execution_count": 251,
     "metadata": {},
     "output_type": "execute_result"
    },
    {
     "data": {
      "image/png": "[encoded data removed]",
      "text/plain": [
       "<Figure size 640x480 with 1 Axes>"
      ]
     },
     "metadata": {},
     "output_type": "display_data"
    }
   ],
   "source": [
    "outputs = []\n",
    "x = np.arange(3617613952370, 3617613952385, 1)\n",
    "\n",
    "for n in tqdm(x):\n",
    "    outputs.append(eval_expression(lhs, n))\n",
    "\n",
    "plt.plot(x, outputs)\n",
    "plt.hlines(eval_expression(rhs), min(x), max(x))"
   ]
  },
  {
   "cell_type": "code",
   "execution_count": 189,
   "metadata": {},
   "outputs": [
    {
     "data": {
      "text/plain": [
       "2000"
      ]
     },
     "execution_count": 189,
     "metadata": {},
     "output_type": "execute_result"
    }
   ],
   "source": [
    "len(x)"
   ]
  }
 ],
 "metadata": {
  "kernelspec": {
   "display_name": "Python 3",
   "language": "python",
   "name": "python3"
  },
  "language_info": {
   "codemirror_mode": {
    "name": "ipython",
    "version": 3
   },
   "file_extension": ".py",
   "mimetype": "text/x-python",
   "name": "python",
   "nbconvert_exporter": "python",
   "pygments_lexer": "ipython3",
   "version": "3.11.1"
  },
  "orig_nbformat": 4,
  "vscode": {
   "interpreter": {
    "hash": "21cb412c7ab3e231a2465a014a22826e8d2cd96df42ac20cbd8cdb7b7a3d1212"
   }
  }
 },
 "nbformat": 4,
 "nbformat_minor": 2
}
