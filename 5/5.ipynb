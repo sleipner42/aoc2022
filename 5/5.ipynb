{
 "cells": [
  {
   "cell_type": "code",
   "execution_count": 98,
   "metadata": {},
   "outputs": [],
   "source": [
    "from queue import LifoQueue\n",
    "import numpy as np\n",
    "import re"
   ]
  },
  {
   "cell_type": "code",
   "execution_count": 119,
   "metadata": {},
   "outputs": [],
   "source": [
    "with open('data.txt') as file:\n",
    "    data = file.read()"
   ]
  },
  {
   "cell_type": "code",
   "execution_count": 140,
   "metadata": {},
   "outputs": [],
   "source": [
    "crates, rules = data.split('\\n\\n')\n",
    "crates = np.array([list(row[1::4].replace(' ','0')) for row in crates.splitlines()])[:-1]\n",
    "\n",
    "rules = rules.splitlines()\n",
    "\n",
    "queues = []\n",
    "\n",
    "for n in range(crates.shape[1]):\n",
    "    que = LifoQueue(maxsize=crates.shape[0]*100)\n",
    "    \n",
    "    for i in crates[:, n][::-1]:\n",
    "        if i != '0':\n",
    "            que.put(i)\n",
    "    \n",
    "    queues.append(que)"
   ]
  },
  {
   "cell_type": "code",
   "execution_count": 138,
   "metadata": {},
   "outputs": [
    {
     "data": {
      "text/plain": [
       "'TDCHVHJTG'"
      ]
     },
     "execution_count": 138,
     "metadata": {},
     "output_type": "execute_result"
    }
   ],
   "source": [
    "for instruction in rules:\n",
    "    nr, fro, to = re.sub('[a-zA-Z]','',instruction).split()\n",
    "    #print(instruction)\n",
    "    \n",
    "    nr = int(nr)\n",
    "    fro = int(fro)\n",
    "    to = int(to)\n",
    "\n",
    "    #print(nr, fro, to)\n",
    "\n",
    "    for n in range(nr):\n",
    "        queues[to - 1].put(queues[fro - 1].get())\n",
    "\n",
    "''.join([item.get() for item in queues])"
   ]
  },
  {
   "cell_type": "code",
   "execution_count": 141,
   "metadata": {},
   "outputs": [
    {
     "data": {
      "text/plain": [
       "'NGCMPJLHV'"
      ]
     },
     "execution_count": 141,
     "metadata": {},
     "output_type": "execute_result"
    }
   ],
   "source": [
    "for instruction in rules:\n",
    "    nr, fro, to = re.sub('[a-zA-Z]','',instruction).split()\n",
    "    \n",
    "    nr = int(nr)\n",
    "    fro = int(fro)\n",
    "    to = int(to)\n",
    "\n",
    "    items = []\n",
    "\n",
    "    for n in range(nr):\n",
    "        items.append(queues[fro - 1].get())\n",
    "    \n",
    "    for item in items[::-1]:\n",
    "        queues[to - 1].put(item)\n",
    "\n",
    "''.join([item.get() for item in queues])"
   ]
  }
 ],
 "metadata": {
  "kernelspec": {
   "display_name": "Python 3.10.2 64-bit ('3.10.2')",
   "language": "python",
   "name": "python3"
  },
  "language_info": {
   "codemirror_mode": {
    "name": "ipython",
    "version": 3
   },
   "file_extension": ".py",
   "mimetype": "text/x-python",
   "name": "python",
   "nbconvert_exporter": "python",
   "pygments_lexer": "ipython3",
   "version": "3.10.2"
  },
  "orig_nbformat": 4,
  "vscode": {
   "interpreter": {
    "hash": "0b0ef6e9b4263cd5b5701e9a8bec4b669e6d0deb6851fa2dee2e6e4c780046d2"
   }
  }
 },
 "nbformat": 4,
 "nbformat_minor": 2
}
