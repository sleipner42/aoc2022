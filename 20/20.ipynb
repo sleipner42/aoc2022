{
 "cells": [
  {
   "cell_type": "code",
   "execution_count": 1,
   "metadata": {},
   "outputs": [],
   "source": [
    "from __future__ import annotations\n",
    "from tqdm import tqdm\n",
    "from dataclasses import dataclass\n",
    "\n",
    "with open('data.txt') as file:\n",
    "    data = [int(a) for a in file.read().splitlines()]"
   ]
  },
  {
   "cell_type": "code",
   "execution_count": 2,
   "metadata": {},
   "outputs": [],
   "source": [
    "LEN_OF_DATA = len(data)\n",
    "\n",
    "@dataclass\n",
    "class Node:\n",
    "\n",
    "    nr: int\n",
    "    next_node: Node = None\n",
    "    prev_node: Node = None\n",
    "\n",
    "    def __repr__(self) -> str:\n",
    "        return f'{self.nr}'\n",
    "\n",
    "    def move_forward(self):\n",
    "\n",
    "        # Take out node\n",
    "        self.prev_node.next_node = self.next_node\n",
    "        self.next_node.prev_node = self.prev_node\n",
    "\n",
    "        # Update self prev and next\n",
    "        self.prev_node = self.next_node\n",
    "        self.next_node = self.next_node.next_node\n",
    "\n",
    "\n",
    "        # Update next and prev\n",
    "        self.next_node.prev_node = self\n",
    "        self.prev_node.next_node = self\n",
    "\n",
    "    def move_backward(self):\n",
    "\n",
    "        # Take out node\n",
    "        self.prev_node.next_node = self.next_node\n",
    "        self.next_node.prev_node = self.prev_node\n",
    "\n",
    "        # Update self prev and next\n",
    "        self.next_node = self.prev_node\n",
    "        self.prev_node = self.prev_node.prev_node\n",
    "\n",
    "        # Update next and prev\n",
    "        self.next_node.prev_node = self\n",
    "        self.prev_node.next_node = self\n",
    "\n",
    "    def get_number_forward(self, nr):\n",
    "\n",
    "        node = self\n",
    "\n",
    "        for n in range(nr):\n",
    "            node = node.next_node\n",
    "\n",
    "        return node\n",
    "\n",
    "def print_nodes(node, length):\n",
    "        for _ in range(length):\n",
    "            print(node, end=', ')\n",
    "            node = node.next_node\n",
    "\n",
    "def get_nodes():\n",
    "\n",
    "    last_node = Node(nr=data[-1])\n",
    "    prev_node = last_node\n",
    "    nodes = []\n",
    "\n",
    "    zero_node = None\n",
    "\n",
    "    for nr in data[:-1]:\n",
    "\n",
    "        node = Node(nr=nr, prev_node=prev_node)\n",
    "        prev_node.next_node = node\n",
    "        nodes.append(node)\n",
    "        prev_node = node\n",
    "\n",
    "        if nr == 0:\n",
    "            zero_node = node\n",
    "\n",
    "    prev_node.next_node = last_node\n",
    "    last_node.prev_node = prev_node\n",
    "    nodes.append(last_node)\n",
    "\n",
    "    return nodes, zero_node"
   ]
  },
  {
   "cell_type": "code",
   "execution_count": 3,
   "metadata": {},
   "outputs": [
    {
     "data": {
      "text/plain": [
       "10831"
      ]
     },
     "execution_count": 3,
     "metadata": {},
     "output_type": "execute_result"
    }
   ],
   "source": [
    "nodes, zero_node = get_nodes()\n",
    "\n",
    "for node in nodes:\n",
    "\n",
    "    nr = node.nr\n",
    "\n",
    "    for a in range(abs(nr) % (LEN_OF_DATA - 1)):\n",
    "        if nr > 0:\n",
    "            node.move_forward()\n",
    "        else:\n",
    "            node.move_backward()\n",
    "\n",
    "cord_1000 = zero_node.get_number_forward(1000 % LEN_OF_DATA)\n",
    "cord_2000 = zero_node.get_number_forward(2000 % LEN_OF_DATA)\n",
    "cord_3000 = zero_node.get_number_forward(3000 % LEN_OF_DATA)\n",
    "\n",
    "cord_1000.nr + cord_2000.nr + cord_3000.nr"
   ]
  },
  {
   "cell_type": "code",
   "execution_count": 4,
   "metadata": {},
   "outputs": [
    {
     "name": "stderr",
     "output_type": "stream",
     "text": [
      "100%|██████████| 10/10 [00:18<00:00,  1.82s/it]\n"
     ]
    },
    {
     "data": {
      "text/plain": [
       "6420481789383"
      ]
     },
     "execution_count": 4,
     "metadata": {},
     "output_type": "execute_result"
    }
   ],
   "source": [
    "nodes, zero_node = get_nodes()\n",
    "\n",
    "KEY = 811589153\n",
    "\n",
    "for node in nodes:\n",
    "    node.nr = node.nr * KEY\n",
    "\n",
    "for _ in tqdm(range(10)):\n",
    "    for node in nodes:\n",
    "\n",
    "        nr = node.nr\n",
    "\n",
    "        for a in range(abs(nr) % (LEN_OF_DATA - 1)):\n",
    "            if nr > 0:\n",
    "                node.move_forward()\n",
    "            else:\n",
    "                node.move_backward()\n",
    "\n",
    "cord_1000 = zero_node.get_number_forward(1000 % LEN_OF_DATA)\n",
    "cord_2000 = zero_node.get_number_forward(2000 % LEN_OF_DATA)\n",
    "cord_3000 = zero_node.get_number_forward(3000 % LEN_OF_DATA)\n",
    "\n",
    "cord_1000.nr + cord_2000.nr + cord_3000.nr"
   ]
  }
 ],
 "metadata": {
  "kernelspec": {
   "display_name": "Python 3",
   "language": "python",
   "name": "python3"
  },
  "language_info": {
   "codemirror_mode": {
    "name": "ipython",
    "version": 3
   },
   "file_extension": ".py",
   "mimetype": "text/x-python",
   "name": "python",
   "nbconvert_exporter": "python",
   "pygments_lexer": "ipython3",
   "version": "3.11.1"
  },
  "orig_nbformat": 4,
  "vscode": {
   "interpreter": {
    "hash": "21cb412c7ab3e231a2465a014a22826e8d2cd96df42ac20cbd8cdb7b7a3d1212"
   }
  }
 },
 "nbformat": 4,
 "nbformat_minor": 2
}
