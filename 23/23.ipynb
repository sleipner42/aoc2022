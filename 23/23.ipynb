{
 "cells": [
  {
   "cell_type": "code",
   "execution_count": 18,
   "metadata": {},
   "outputs": [],
   "source": [
    "from __future__ import annotations\n",
    "from tqdm import tqdm\n",
    "from dataclasses import dataclass\n",
    "import matplotlib.pyplot as plt\n",
    "import numpy as np\n",
    "import seaborn as sns\n",
    "import re\n",
    "\n",
    "sns.set()\n",
    "\n",
    "with open('data.txt') as file:\n",
    "    data = file.read().splitlines()"
   ]
  },
  {
   "cell_type": "code",
   "execution_count": 19,
   "metadata": {},
   "outputs": [
    {
     "data": {
      "text/plain": [
       "5031"
      ]
     },
     "execution_count": 19,
     "metadata": {},
     "output_type": "execute_result"
    }
   ],
   "source": [
    "def get_elves():\n",
    "\n",
    "    elves = set()\n",
    "\n",
    "    for row, line in enumerate(data):\n",
    "        for col, point in enumerate(line):\n",
    "            if point == \"#\":\n",
    "                elves.add((row, col))\n",
    "    \n",
    "    return elves\n",
    "\n",
    "\n",
    "def get_neighbours(elv_row, elv_col):\n",
    "\n",
    "    neighbours = []\n",
    "\n",
    "    for row in range(-1, 2):\n",
    "        for col in range(-1, 2):\n",
    "            if row or col != 0:\n",
    "                neighbours.append((elv_row + row, elv_col + col))\n",
    "\n",
    "    return neighbours\n",
    "\n",
    "\n",
    "def print_elves(elves):\n",
    "    matrix = np.zeros((15, 15), str)\n",
    "    matrix[:, :] = \".\"\n",
    "\n",
    "    for elv in elves:\n",
    "        matrix[elv[0] + 2, elv[1] + 2] = \"#\"\n",
    "\n",
    "    for col in matrix:\n",
    "        for row in col:\n",
    "            print(row, end=\"\")\n",
    "        print()\n",
    "\n",
    "conditions = [\n",
    "    lambda neighbours, elves: neighbours[0] not in elves\n",
    "    and neighbours[1] not in elves\n",
    "    and neighbours[2] not in elves,\n",
    "    lambda neighbours, elves: neighbours[5] not in elves\n",
    "    and neighbours[6] not in elves\n",
    "    and neighbours[7] not in elves,\n",
    "    lambda neighbours, elves: neighbours[0] not in elves\n",
    "    and neighbours[3] not in elves\n",
    "    and neighbours[5] not in elves,\n",
    "    lambda neighbours, elves: neighbours[2] not in elves\n",
    "    and neighbours[4] not in elves\n",
    "    and neighbours[7] not in elves,\n",
    "]\n",
    "\n",
    "directions = [\n",
    "    lambda elv: (elv[0] - 1, elv[1]),\n",
    "    lambda elv: (elv[0] + 1, elv[1]),\n",
    "    lambda elv: (elv[0], elv[1] - 1),\n",
    "    lambda elv: (elv[0], elv[1] + 1),\n",
    "]\n",
    "\n",
    "def update_positions(elves, offsets):\n",
    "\n",
    "    new_positions = {}\n",
    "    new_positions_count = {}\n",
    "    final_new_pos = set()\n",
    "\n",
    "    for elv in elves:\n",
    "        neighbours = get_neighbours(*elv)\n",
    "\n",
    "        if len(set(neighbours) - elves) == 8:\n",
    "            new_pos = elv\n",
    "        # North\n",
    "        elif (\n",
    "            conditions[offsets[0]](neighbours, elves)\n",
    "        ):\n",
    "            new_pos = directions[offsets[0]](elv)\n",
    "        # South\n",
    "        elif (\n",
    "            conditions[offsets[1]](neighbours, elves)\n",
    "        ):\n",
    "            new_pos = directions[offsets[1]](elv)\n",
    "\n",
    "        # West\n",
    "        elif (\n",
    "            conditions[offsets[2]](neighbours, elves)\n",
    "        ):\n",
    "            new_pos = directions[offsets[2]](elv)\n",
    "\n",
    "        # East\n",
    "        elif (\n",
    "            conditions[offsets[3]](neighbours, elves)\n",
    "        ):\n",
    "            new_pos = directions[offsets[3]](elv)\n",
    "        else:\n",
    "            new_pos = elv\n",
    "\n",
    "        new_positions[elv] = new_pos\n",
    "        new_positions_count[new_pos] = new_positions_count.get(new_pos, 0) + 1\n",
    "\n",
    "    for elv, new_pos in new_positions.items():\n",
    "        if new_positions_count[new_pos] == 1:\n",
    "            final_new_pos.add(new_pos)\n",
    "        else:\n",
    "            final_new_pos.add(elv)\n",
    "\n",
    "    return final_new_pos\n",
    "\n",
    "elves = get_elves()\n",
    "\n",
    "for r in range(25):\n",
    "    offset = (np.arange(4)  + r)% 4\n",
    "    elves = update_positions(elves, offset)\n",
    "\n",
    "width = max([e[1] for e in elves]) - min([e[1] for e in elves]) + 1\n",
    "height = max([e[0] for e in elves]) - min([e[0] for e in elves]) + 1\n",
    "\n",
    "width * height - len(elves)"
   ]
  },
  {
   "cell_type": "code",
   "execution_count": 20,
   "metadata": {},
   "outputs": [
    {
     "data": {
      "text/plain": [
       "973"
      ]
     },
     "execution_count": 20,
     "metadata": {},
     "output_type": "execute_result"
    }
   ],
   "source": [
    "last_hash = None\n",
    "current_hash = -1\n",
    "n = 0\n",
    "\n",
    "elves = get_elves()\n",
    "\n",
    "while last_hash != current_hash:\n",
    "\n",
    "    last_hash = current_hash\n",
    "\n",
    "    offset = (np.arange(4)  + n) % 4\n",
    "\n",
    "    elves = update_positions(elves, offset)\n",
    "    current_hash = hash(tuple(elves))\n",
    "\n",
    "    n+=1\n",
    "\n",
    "n"
   ]
  }
 ],
 "metadata": {
  "kernelspec": {
   "display_name": "Python 3",
   "language": "python",
   "name": "python3"
  },
  "language_info": {
   "codemirror_mode": {
    "name": "ipython",
    "version": 3
   },
   "file_extension": ".py",
   "mimetype": "text/x-python",
   "name": "python",
   "nbconvert_exporter": "python",
   "pygments_lexer": "ipython3",
   "version": "3.11.1"
  },
  "orig_nbformat": 4,
  "vscode": {
   "interpreter": {
    "hash": "21cb412c7ab3e231a2465a014a22826e8d2cd96df42ac20cbd8cdb7b7a3d1212"
   }
  }
 },
 "nbformat": 4,
 "nbformat_minor": 2
}
