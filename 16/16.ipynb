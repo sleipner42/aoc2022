{
 "cells": [
  {
   "cell_type": "code",
   "execution_count": 1,
   "metadata": {},
   "outputs": [],
   "source": [
    "from tqdm import tqdm\n",
    "import re\n",
    "import numpy as np\n",
    "from collections import defaultdict\n",
    "import heapq as heap\n",
    "\n",
    "import itertools\n",
    "\n",
    "with open('data.txt') as file:\n",
    "    data = file.read().splitlines()"
   ]
  },
  {
   "cell_type": "code",
   "execution_count": 2,
   "metadata": {},
   "outputs": [],
   "source": [
    "valves = {}\n",
    "\n",
    "for valve in data:\n",
    "    v = {}\n",
    "    a,b = valve.split(';')\n",
    "\n",
    "    v['open'] = False\n",
    "\n",
    "    name = a.split(' ')[1]\n",
    "    v['rate'] = int(a.split(' ')[-1].split('=')[-1])\n",
    "    \n",
    "    nexts = b.split(', ')\n",
    "    nexts[0] = nexts[0].split(' ')[-1]\n",
    "\n",
    "    v['next'] = nexts\n",
    "    v['name'] = name\n",
    "    \n",
    "    valves[name] = v"
   ]
  },
  {
   "cell_type": "code",
   "execution_count": 4,
   "metadata": {},
   "outputs": [
    {
     "data": {
      "text/plain": [
       "1653"
      ]
     },
     "execution_count": 4,
     "metadata": {},
     "output_type": "execute_result"
    }
   ],
   "source": [
    "cache = {}\n",
    "\n",
    "\n",
    "def get_best_path(key, open_valves, minutes_left, closed_valves):\n",
    "\n",
    "    cache_key = (key, tuple(set(open_valves)), minutes_left)\n",
    "    if cached := cache.get(cache_key, None):\n",
    "        return cached\n",
    "\n",
    "    alts = []\n",
    "\n",
    "    if minutes_left == 0 or len(valves.items()) == len(open_valves):\n",
    "        return 0\n",
    "\n",
    "    if key not in open_valves:\n",
    "\n",
    "        new_open_vales = open_valves.copy()\n",
    "        new_open_vales.add(key)\n",
    "\n",
    "        new_closed = closed_valves.copy()\n",
    "        new_closed.remove(key)\n",
    "\n",
    "        release = (minutes_left - 1) * valves[key][\"rate\"] + get_best_path(\n",
    "            key,\n",
    "            new_open_vales,\n",
    "            minutes_left=minutes_left - 1,\n",
    "            closed_valves=new_closed,\n",
    "        )\n",
    "        alts.append(release)\n",
    "\n",
    "    for valve in valves[key][\"next\"]:\n",
    "        release = get_best_path(\n",
    "            valve,\n",
    "            open_valves,\n",
    "            minutes_left=minutes_left - 1,\n",
    "            closed_valves=closed_valves,\n",
    "        )\n",
    "        alts.append(release)\n",
    "\n",
    "    total_score = max(alts)\n",
    "    cache[cache_key] = total_score\n",
    "    return total_score\n",
    "\n",
    "\n",
    "zero_rates = [key for key, val in valves.items() if val[\"rate\"] == 0]\n",
    "valves_left = [key for key, val in valves.items() if key not in zero_rates]\n",
    "\n",
    "get_best_path(\"AA\", set(zero_rates), 30, set(valves_left))\n"
   ]
  },
  {
   "cell_type": "code",
   "execution_count": 5,
   "metadata": {},
   "outputs": [],
   "source": [
    "full = set(valves_left)\n",
    "\n",
    "combs = []\n",
    "\n",
    "for n in range(len(full)):\n",
    "    my = list(itertools.combinations(full, n))\n",
    "    elephant = [[a for a in full if a not in b] for b in my]\n",
    "    combs += list(zip(my, elephant))\n"
   ]
  },
  {
   "cell_type": "code",
   "execution_count": 7,
   "metadata": {},
   "outputs": [
    {
     "name": "stderr",
     "output_type": "stream",
     "text": [
      "100%|██████████| 32767/32767 [15:29<00:00, 35.26it/s]   \n"
     ]
    },
    {
     "data": {
      "text/plain": [
       "2223"
      ]
     },
     "execution_count": 7,
     "metadata": {},
     "output_type": "execute_result"
    }
   ],
   "source": [
    "scores = []\n",
    "\n",
    "for c in tqdm(combs):\n",
    "    my, elephant = c\n",
    "    my_path = get_best_path(\"AA\", set(zero_rates + list(elephant)), 26, set(my))\n",
    "    elephant_path = get_best_path(\"AA\", set(zero_rates + list(my)), 26, set(elephant))\n",
    "    scores.append(my_path + elephant_path)\n",
    "\n",
    "max(scores)"
   ]
  }
 ],
 "metadata": {
  "kernelspec": {
   "display_name": "Python 3",
   "language": "python",
   "name": "python3"
  },
  "language_info": {
   "codemirror_mode": {
    "name": "ipython",
    "version": 3
   },
   "file_extension": ".py",
   "mimetype": "text/x-python",
   "name": "python",
   "nbconvert_exporter": "python",
   "pygments_lexer": "ipython3",
   "version": "3.11.1 (main, Dec 18 2022, 21:12:09) [Clang 14.0.0 (clang-1400.0.29.202)]"
  },
  "orig_nbformat": 4,
  "vscode": {
   "interpreter": {
    "hash": "21cb412c7ab3e231a2465a014a22826e8d2cd96df42ac20cbd8cdb7b7a3d1212"
   }
  }
 },
 "nbformat": 4,
 "nbformat_minor": 2
}
