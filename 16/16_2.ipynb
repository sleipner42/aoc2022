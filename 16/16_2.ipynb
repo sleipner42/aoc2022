{
 "cells": [
  {
   "cell_type": "code",
   "execution_count": 20,
   "metadata": {},
   "outputs": [],
   "source": [
    "from tqdm import tqdm\n",
    "import re\n",
    "import numpy as np\n",
    "from collections import defaultdict\n",
    "import heapq as heap\n",
    "\n",
    "with open('data.txt') as file:\n",
    "    data = file.read().splitlines()"
   ]
  },
  {
   "cell_type": "code",
   "execution_count": 21,
   "metadata": {},
   "outputs": [],
   "source": [
    "valves = {}\n",
    "\n",
    "for valve in data:\n",
    "    v = {}\n",
    "    a,b = valve.split(';')\n",
    "\n",
    "    v['open'] = False\n",
    "\n",
    "    name = a.split(' ')[1]\n",
    "    v['rate'] = int(a.split(' ')[-1].split('=')[-1])\n",
    "    \n",
    "    nexts = b.split(', ')\n",
    "    nexts[0] = nexts[0].split(' ')[-1]\n",
    "\n",
    "    v['next'] = nexts\n",
    "    v['name'] = name\n",
    "    \n",
    "    valves[name] = v"
   ]
  },
  {
   "cell_type": "code",
   "execution_count": null,
   "metadata": {},
   "outputs": [],
   "source": [
    "a b c d c d c d"
   ]
  },
  {
   "cell_type": "code",
   "execution_count": 32,
   "metadata": {},
   "outputs": [
    {
     "data": {
      "text/plain": [
       "1651"
      ]
     },
     "execution_count": 32,
     "metadata": {},
     "output_type": "execute_result"
    }
   ],
   "source": [
    "cache = {}\n",
    "\n",
    "def get_best_path(key, open_valves, minutes_left):\n",
    "\n",
    "    cache_key = (key, tuple(set(open_valves)), minutes_left)\n",
    "    if cached := cache.get(cache_key, None):\n",
    "        return cached\n",
    "\n",
    "    alts = []\n",
    "\n",
    "    if minutes_left == 0 or len(valves.items()) == len(open_valves):\n",
    "        return 0\n",
    "\n",
    "    if key not in open_valves:\n",
    "        release = (minutes_left - 1) * valves[key]['rate'] + get_best_path(key, open_valves + [key], minutes_left=minutes_left-1)\n",
    "        alts.append(release)\n",
    "\n",
    "    for valve in valves[key]['next']:\n",
    "        release = get_best_path(valve, open_valves, minutes_left=minutes_left-1)\n",
    "        alts.append(release)\n",
    "\n",
    "    total_score = max(alts)\n",
    "    cache[cache_key] = total_score\n",
    "    return total_score\n",
    "\n",
    "\n",
    "zero_rates = [key for key, val in valves.items() if val['rate'] == 0]\n",
    "\n",
    "get_best_path('AA', zero_rates, 30)"
   ]
  },
  {
   "cell_type": "code",
   "execution_count": 33,
   "metadata": {},
   "outputs": [
    {
     "data": {
      "text/plain": [
       "1707"
      ]
     },
     "execution_count": 33,
     "metadata": {},
     "output_type": "execute_result"
    }
   ],
   "source": [
    "cache = {}\n",
    "\n",
    "\n",
    "def get_best_path_2(key, elephant, open_valves, minutes_left):\n",
    "\n",
    "    cache_key = (tuple(set([key, elephant])), tuple(set(open_valves)), minutes_left)\n",
    "    if cached := cache.get(cache_key, None):\n",
    "        return cached\n",
    "\n",
    "    alts = []\n",
    "\n",
    "    if minutes_left == 0 or len(valves.items()) == len(open_valves):\n",
    "        return 0\n",
    "\n",
    "    if key not in open_valves:\n",
    "\n",
    "        open_score = (minutes_left - 1) * valves[key][\"rate\"]\n",
    "\n",
    "        # Elephant open also\n",
    "        if elephant not in open_valves and elephant != key:\n",
    "\n",
    "            release = (\n",
    "                open_score\n",
    "                + (minutes_left - 1) * valves[elephant][\"rate\"]\n",
    "                + get_best_path_2(\n",
    "                    key, elephant, open_valves + [key, elephant], minutes_left=minutes_left - 1\n",
    "                )\n",
    "            )\n",
    "\n",
    "            alts.append(release)\n",
    "\n",
    "        # Open and all elephant moves\n",
    "        for elephant_move in valves[elephant][\"next\"]:\n",
    "            release = open_score + get_best_path_2(\n",
    "                key, elephant_move, open_valves + [key], minutes_left=minutes_left - 1\n",
    "            )\n",
    "            alts.append(release)\n",
    "\n",
    "\n",
    "    for new_valve in valves[key][\"next\"]:\n",
    "\n",
    "        # Elephant open\n",
    "\n",
    "        if elephant not in open_valves:\n",
    "            release = (\n",
    "                (minutes_left - 1) * valves[elephant][\"rate\"]\n",
    "                + get_best_path_2(\n",
    "                    new_valve, elephant, open_valves + [elephant], minutes_left=minutes_left - 1\n",
    "                )\n",
    "            )\n",
    "\n",
    "            alts.append(release)\n",
    "\n",
    "        # Open and all elephant moves\n",
    "        for elephant_move in valves[elephant][\"next\"]:\n",
    "            release = get_best_path_2(\n",
    "                new_valve, elephant_move, open_valves, minutes_left=minutes_left - 1\n",
    "            )\n",
    "            alts.append(release)\n",
    "\n",
    "\n",
    "\n",
    "    total_score = max(alts)\n",
    "    cache[cache_key] = total_score\n",
    "    return total_score\n",
    "\n",
    "\n",
    "zero_rates = [key for key, val in valves.items() if val[\"rate\"] == 0]\n",
    "\n",
    "get_best_path_2(\"AA\", \"AA\", zero_rates, 26)\n"
   ]
  }
 ],
 "metadata": {
  "kernelspec": {
   "display_name": "Python 3.10.2 64-bit ('3.10.2')",
   "language": "python",
   "name": "python3"
  },
  "language_info": {
   "codemirror_mode": {
    "name": "ipython",
    "version": 3
   },
   "file_extension": ".py",
   "mimetype": "text/x-python",
   "name": "python",
   "nbconvert_exporter": "python",
   "pygments_lexer": "ipython3",
   "version": "3.10.2"
  },
  "orig_nbformat": 4,
  "vscode": {
   "interpreter": {
    "hash": "0b0ef6e9b4263cd5b5701e9a8bec4b669e6d0deb6851fa2dee2e6e4c780046d2"
   }
  }
 },
 "nbformat": 4,
 "nbformat_minor": 2
}
