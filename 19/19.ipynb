{
 "cells": [
  {
   "cell_type": "code",
   "execution_count": 198,
   "metadata": {},
   "outputs": [],
   "source": [
    "from tqdm import tqdm\n",
    "from pulp import *\n",
    "\n",
    "with open('input.txt') as file:\n",
    "    data = file.read().splitlines()"
   ]
  },
  {
   "cell_type": "code",
   "execution_count": 199,
   "metadata": {},
   "outputs": [],
   "source": [
    "lp = []\n",
    "\n",
    "for line in data:\n",
    "    rob = line.split('.')\n",
    "\n",
    "    lp.append([\n",
    "        [int(rob[0].split(' ')[-2]), 0, 0, 0],\n",
    "        [int(rob[1].split(' ')[-2]), 0, 0, 0],\n",
    "        [int(rob[2].split(' ')[-5]), int(rob[2].split(' ')[-2]), 0, 0],\n",
    "        [int(rob[3].split(' ')[-5]), 0, int(rob[3].split(' ')[-2]), 0],\n",
    "    ])"
   ]
  },
  {
   "cell_type": "code",
   "execution_count": 244,
   "metadata": {},
   "outputs": [],
   "source": [
    "def solve(blueprint, minutes):\n",
    "\n",
    "  ROBOTS = range(4)\n",
    "  MINUTES = range(minutes)\n",
    "\n",
    "  prob = LpProblem(\"aoc\", LpMaximize)\n",
    "\n",
    "  choices = LpVariable.dicts(\"Choice\", (ROBOTS, MINUTES), cat=\"Binary\")\n",
    "  stones_produced = LpVariable.dicts(\"stones_produced\", (ROBOTS, MINUTES), cat=\"Integer\")\n",
    "  stones_inventory = LpVariable.dicts(\"stones_inventory\", (ROBOTS, MINUTES), cat=\"Integer\")\n",
    "  cost_per_round = LpVariable.dicts(\"cost_per_round\", (ROBOTS, MINUTES), cat=\"Integer\")\n",
    "  cumulative_costs = LpVariable.dicts(\"cum_costs\", (ROBOTS, MINUTES), cat=\"Integer\")\n",
    "\n",
    "  # Set target\n",
    "  prob += lpSum([stones_inventory[len(ROBOTS) - 1][minutes-1]])\n",
    "\n",
    "  # Add constrains\n",
    "  for m in MINUTES:\n",
    "\n",
    "    prob += lpSum([choices[r][m] for r in ROBOTS]) >= 0\n",
    "    prob += lpSum([choices[r][m] for r in ROBOTS]) <= 1\n",
    "\n",
    "    for r in ROBOTS:\n",
    "\n",
    "      if m >= minutes - 2:\n",
    "        prob += cost_per_round[r][m] == 0\n",
    "        prob += cost_per_round[r][m] == 0\n",
    "      else:\n",
    "        prob += sum([choices[r_][m + 2] * blueprint[r_][r] for r_ in ROBOTS]) == cost_per_round[r][m]\n",
    "      \n",
    "      \n",
    "      prob += (lpSum([cost_per_round[r][m_] for m_ in range(m + 1)])) == cumulative_costs[r][m]\n",
    "      prob += (lpSum([choices[r][m_] for m_ in range(m + 1)])) == stones_produced[r][m]\n",
    "\n",
    "      prob += lpSum([\n",
    "                stones_produced[r][m_] \n",
    "                for m_ in range(m + 1)\n",
    "                ] + [-cumulative_costs[r][m]]\n",
    "              ) == stones_inventory[r][m]\n",
    "\n",
    "      prob += stones_inventory[r][m] >= 0\n",
    "\n",
    "\n",
    "  # Set starting conditions\n",
    "  prob += choices[0][0] == 1\n",
    "  prob += lpSum([choices[r][1] for r in ROBOTS]) == 0\n",
    "      \n",
    "  prob.solve(PULP_CBC_CMD(msg=0))\n",
    "  return value(stones_inventory[len(ROBOTS) - 1][minutes - 1])"
   ]
  },
  {
   "cell_type": "code",
   "execution_count": 245,
   "metadata": {},
   "outputs": [
    {
     "data": {
      "text/plain": [
       "1356.0"
      ]
     },
     "execution_count": 245,
     "metadata": {},
     "output_type": "execute_result"
    }
   ],
   "source": [
    "part_1 = 0\n",
    "\n",
    "for idx, blueprint in enumerate(lp):\n",
    "  part_1 += (idx + 1) * solve(blueprint, 24)\n",
    "\n",
    "part_1"
   ]
  },
  {
   "cell_type": "code",
   "execution_count": 243,
   "metadata": {},
   "outputs": [
    {
     "data": {
      "text/plain": [
       "27720.0"
      ]
     },
     "execution_count": 243,
     "metadata": {},
     "output_type": "execute_result"
    }
   ],
   "source": [
    "part_2 = 1\n",
    "\n",
    "for idx, blueprint in enumerate(lp[:3]):\n",
    "  part_2 *= solve(blueprint, 32)\n",
    "\n",
    "part_2"
   ]
  }
 ],
 "metadata": {
  "kernelspec": {
   "display_name": "Python 3",
   "language": "python",
   "name": "python3"
  },
  "language_info": {
   "codemirror_mode": {
    "name": "ipython",
    "version": 3
   },
   "file_extension": ".py",
   "mimetype": "text/x-python",
   "name": "python",
   "nbconvert_exporter": "python",
   "pygments_lexer": "ipython3",
   "version": "3.11.1"
  },
  "orig_nbformat": 4,
  "vscode": {
   "interpreter": {
    "hash": "21cb412c7ab3e231a2465a014a22826e8d2cd96df42ac20cbd8cdb7b7a3d1212"
   }
  }
 },
 "nbformat": 4,
 "nbformat_minor": 2
}
