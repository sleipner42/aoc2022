{
 "cells": [
  {
   "cell_type": "code",
   "execution_count": null,
   "metadata": {},
   "outputs": [],
   "source": []
  },
  {
   "cell_type": "code",
   "execution_count": 3,
   "metadata": {},
   "outputs": [],
   "source": [
    "with open('data.txt') as file:\n",
    "    data = file.read().splitlines()"
   ]
  },
  {
   "cell_type": "code",
   "execution_count": 101,
   "metadata": {},
   "outputs": [],
   "source": [
    "class file_obj:\n",
    "  def __init__(self, name, size, parent):\n",
    "    self.name = name\n",
    "    self.size = size \n",
    "    self.parent = parent\n",
    "\n",
    "    def get_size(self):\n",
    "      return self.size\n",
    "\n",
    "    def __str__(self):\n",
    "      return self.name\n",
    "    \n",
    "\n",
    "class folder:\n",
    "  def __init__(self, name, childs, parent):\n",
    "    self.name = name\n",
    "    self.childs = childs\n",
    "    self.parent = parent\n",
    "\n",
    "  def __str__(self) -> str:\n",
    "\n",
    "    childs = self.name + ' \\n '.join([f'\\t {child.__str__()}' for child in self.childs.values()])\n",
    "    \n",
    "    return childs\n",
    "\n",
    "  \n",
    "  def get_size(self) -> int:\n",
    "    \n",
    "    return sum([child.get_size() for child in self.childs.values()])\n"
   ]
  },
  {
   "cell_type": "code",
   "execution_count": 102,
   "metadata": {},
   "outputs": [
    {
     "name": "stdout",
     "output_type": "stream",
     "text": [
      "$ cd /\n",
      "Current name /\n",
      "going to root\n",
      "\n",
      "$ ls\n",
      "Current name /\n",
      "dir a\n",
      "Current name /\n",
      "ADDING FOLDER:  a\n",
      "\n",
      "14848514 b.txt\n",
      "Current name /\n",
      "adding b.txt\n",
      "\n",
      "8504156 c.dat\n",
      "Current name /\n",
      "adding c.dat\n",
      "\n",
      "dir d\n",
      "Current name /\n",
      "ADDING FOLDER:  d\n",
      "\n",
      "$ cd a\n",
      "Current name /\n",
      "GOING DOWN  a\n",
      "CURRENT FOLDERS  dict_keys(['a', 'b.txt', 'c.dat', 'd'])\n",
      "\n",
      "$ ls\n",
      "Current name a\n",
      "dir e\n",
      "Current name a\n",
      "ADDING FOLDER:  e\n",
      "\n",
      "29116 f\n",
      "Current name a\n",
      "adding f\n",
      "\n",
      "2557 g\n",
      "Current name a\n",
      "adding g\n",
      "\n",
      "62596 h.lst\n",
      "Current name a\n",
      "adding h.lst\n",
      "\n",
      "$ cd e\n",
      "Current name a\n",
      "GOING DOWN  e\n",
      "CURRENT FOLDERS  dict_keys(['e', 'f', 'g', 'h.lst'])\n",
      "\n",
      "$ ls\n",
      "Current name e\n",
      "584 i\n",
      "Current name e\n",
      "adding i\n",
      "\n",
      "$ cd ..\n",
      "Current name e\n",
      "going back\n",
      "\n",
      "$ cd ..\n",
      "Current name a\n",
      "going back\n",
      "\n",
      "$ cd d\n",
      "Current name /\n",
      "GOING DOWN  d\n",
      "CURRENT FOLDERS  dict_keys(['a', 'b.txt', 'c.dat', 'd'])\n",
      "\n",
      "$ ls\n",
      "Current name d\n",
      "4060174 j\n",
      "Current name d\n",
      "adding j\n",
      "\n",
      "8033020 d.log\n",
      "Current name d\n",
      "adding d.log\n",
      "\n",
      "5626152 d.ext\n",
      "Current name d\n",
      "adding d.ext\n",
      "\n",
      "7214296 k\n",
      "Current name d\n",
      "adding k\n",
      "\n"
     ]
    }
   ],
   "source": [
    "root_folder = folder('/', {}, None)\n",
    "current_folder = root_folder\n",
    "\n",
    "for line in data:\n",
    "\n",
    "    print(line)\n",
    "    print('Current name', current_folder.name)\n",
    "\n",
    "    if line[:4] == '$ cd':\n",
    "        if line[5:] == '/':\n",
    "            print('going to root')\n",
    "            current_folder = root_folder\n",
    "        \n",
    "        elif line[5:] == '..':\n",
    "            print('going back')\n",
    "            #print(current_folder)\n",
    "            current_folder = current_folder.parent\n",
    "        \n",
    "        else:\n",
    "\n",
    "            folder_name = line[5:]\n",
    "            print('GOING DOWN ', folder_name)\n",
    "            print('CURRENT FOLDERS ', current_folder.childs.keys())\n",
    "            if folder_name in current_folder.childs.keys():\n",
    "                current_folder = current_folder.childs[folder_name]\n",
    "            else:\n",
    "                new_folder = folder(folder_name, {}, current_folder)\n",
    "                current_folder.childs[folder_name] = new_folder\n",
    "                current_folder = new_folder\n",
    "        \n",
    "                \n",
    "    elif line[:4] == '$ ls':\n",
    "        continue\n",
    "\n",
    "    elif line[:3] == 'dir':\n",
    "        \n",
    "        folder_name = line[4:]\n",
    "        print('ADDING FOLDER: ', folder_name)\n",
    "\n",
    "        if folder_name not in current_folder.childs.keys():\n",
    "        \n",
    "            new_folder = folder(folder_name, {}, current_folder)\n",
    "            current_folder.childs[folder_name] = new_folder\n",
    "        \n",
    "    else:\n",
    "        \n",
    "        file_size, file_name  = line.split()\n",
    "    \n",
    "\n",
    "        if file_name not in current_folder.childs.keys():\n",
    "\n",
    "            print(f'adding {file_name}')\n",
    "\n",
    "            new_file = file_obj(file_name, int(file_size), current_folder)\n",
    "            current_folder.childs[file_name] = new_file\n",
    "\n",
    "    print()\n",
    "        \n"
   ]
  },
  {
   "cell_type": "code",
   "execution_count": 103,
   "metadata": {},
   "outputs": [
    {
     "ename": "AttributeError",
     "evalue": "'file_obj' object has no attribute 'get_size'",
     "output_type": "error",
     "traceback": [
      "\u001b[0;31m---------------------------------------------------------------------------\u001b[0m",
      "\u001b[0;31mAttributeError\u001b[0m                            Traceback (most recent call last)",
      "\u001b[1;32m/Users/kristoffer/github/aoc2022/7/7.ipynb Cell 5\u001b[0m in \u001b[0;36m<cell line: 1>\u001b[0;34m()\u001b[0m\n\u001b[0;32m----> <a href='vscode-notebook-cell:/Users/kristoffer/github/aoc2022/7/7.ipynb#W2sZmlsZQ%3D%3D?line=0'>1</a>\u001b[0m root_folder\u001b[39m.\u001b[39;49mget_size()\n",
      "\u001b[1;32m/Users/kristoffer/github/aoc2022/7/7.ipynb Cell 5\u001b[0m in \u001b[0;36mfolder.get_size\u001b[0;34m(self)\u001b[0m\n\u001b[1;32m     <a href='vscode-notebook-cell:/Users/kristoffer/github/aoc2022/7/7.ipynb#W2sZmlsZQ%3D%3D?line=25'>26</a>\u001b[0m \u001b[39mdef\u001b[39;00m \u001b[39mget_size\u001b[39m(\u001b[39mself\u001b[39m) \u001b[39m-\u001b[39m\u001b[39m>\u001b[39m \u001b[39mint\u001b[39m:\n\u001b[0;32m---> <a href='vscode-notebook-cell:/Users/kristoffer/github/aoc2022/7/7.ipynb#W2sZmlsZQ%3D%3D?line=27'>28</a>\u001b[0m   \u001b[39mreturn\u001b[39;00m \u001b[39msum\u001b[39m([child\u001b[39m.\u001b[39mget_size() \u001b[39mfor\u001b[39;00m child \u001b[39min\u001b[39;00m \u001b[39mself\u001b[39m\u001b[39m.\u001b[39mchilds\u001b[39m.\u001b[39mvalues()])\n",
      "\u001b[1;32m/Users/kristoffer/github/aoc2022/7/7.ipynb Cell 5\u001b[0m in \u001b[0;36m<listcomp>\u001b[0;34m(.0)\u001b[0m\n\u001b[1;32m     <a href='vscode-notebook-cell:/Users/kristoffer/github/aoc2022/7/7.ipynb#W2sZmlsZQ%3D%3D?line=25'>26</a>\u001b[0m \u001b[39mdef\u001b[39;00m \u001b[39mget_size\u001b[39m(\u001b[39mself\u001b[39m) \u001b[39m-\u001b[39m\u001b[39m>\u001b[39m \u001b[39mint\u001b[39m:\n\u001b[0;32m---> <a href='vscode-notebook-cell:/Users/kristoffer/github/aoc2022/7/7.ipynb#W2sZmlsZQ%3D%3D?line=27'>28</a>\u001b[0m   \u001b[39mreturn\u001b[39;00m \u001b[39msum\u001b[39m([child\u001b[39m.\u001b[39;49mget_size() \u001b[39mfor\u001b[39;00m child \u001b[39min\u001b[39;00m \u001b[39mself\u001b[39m\u001b[39m.\u001b[39mchilds\u001b[39m.\u001b[39mvalues()])\n",
      "\u001b[1;32m/Users/kristoffer/github/aoc2022/7/7.ipynb Cell 5\u001b[0m in \u001b[0;36mfolder.get_size\u001b[0;34m(self)\u001b[0m\n\u001b[1;32m     <a href='vscode-notebook-cell:/Users/kristoffer/github/aoc2022/7/7.ipynb#W2sZmlsZQ%3D%3D?line=25'>26</a>\u001b[0m \u001b[39mdef\u001b[39;00m \u001b[39mget_size\u001b[39m(\u001b[39mself\u001b[39m) \u001b[39m-\u001b[39m\u001b[39m>\u001b[39m \u001b[39mint\u001b[39m:\n\u001b[0;32m---> <a href='vscode-notebook-cell:/Users/kristoffer/github/aoc2022/7/7.ipynb#W2sZmlsZQ%3D%3D?line=27'>28</a>\u001b[0m   \u001b[39mreturn\u001b[39;00m \u001b[39msum\u001b[39m([child\u001b[39m.\u001b[39mget_size() \u001b[39mfor\u001b[39;00m child \u001b[39min\u001b[39;00m \u001b[39mself\u001b[39m\u001b[39m.\u001b[39mchilds\u001b[39m.\u001b[39mvalues()])\n",
      "\u001b[1;32m/Users/kristoffer/github/aoc2022/7/7.ipynb Cell 5\u001b[0m in \u001b[0;36m<listcomp>\u001b[0;34m(.0)\u001b[0m\n\u001b[1;32m     <a href='vscode-notebook-cell:/Users/kristoffer/github/aoc2022/7/7.ipynb#W2sZmlsZQ%3D%3D?line=25'>26</a>\u001b[0m \u001b[39mdef\u001b[39;00m \u001b[39mget_size\u001b[39m(\u001b[39mself\u001b[39m) \u001b[39m-\u001b[39m\u001b[39m>\u001b[39m \u001b[39mint\u001b[39m:\n\u001b[0;32m---> <a href='vscode-notebook-cell:/Users/kristoffer/github/aoc2022/7/7.ipynb#W2sZmlsZQ%3D%3D?line=27'>28</a>\u001b[0m   \u001b[39mreturn\u001b[39;00m \u001b[39msum\u001b[39m([child\u001b[39m.\u001b[39;49mget_size() \u001b[39mfor\u001b[39;00m child \u001b[39min\u001b[39;00m \u001b[39mself\u001b[39m\u001b[39m.\u001b[39mchilds\u001b[39m.\u001b[39mvalues()])\n",
      "\u001b[1;32m/Users/kristoffer/github/aoc2022/7/7.ipynb Cell 5\u001b[0m in \u001b[0;36mfolder.get_size\u001b[0;34m(self)\u001b[0m\n\u001b[1;32m     <a href='vscode-notebook-cell:/Users/kristoffer/github/aoc2022/7/7.ipynb#W2sZmlsZQ%3D%3D?line=25'>26</a>\u001b[0m \u001b[39mdef\u001b[39;00m \u001b[39mget_size\u001b[39m(\u001b[39mself\u001b[39m) \u001b[39m-\u001b[39m\u001b[39m>\u001b[39m \u001b[39mint\u001b[39m:\n\u001b[0;32m---> <a href='vscode-notebook-cell:/Users/kristoffer/github/aoc2022/7/7.ipynb#W2sZmlsZQ%3D%3D?line=27'>28</a>\u001b[0m   \u001b[39mreturn\u001b[39;00m \u001b[39msum\u001b[39m([child\u001b[39m.\u001b[39mget_size() \u001b[39mfor\u001b[39;00m child \u001b[39min\u001b[39;00m \u001b[39mself\u001b[39m\u001b[39m.\u001b[39mchilds\u001b[39m.\u001b[39mvalues()])\n",
      "\u001b[1;32m/Users/kristoffer/github/aoc2022/7/7.ipynb Cell 5\u001b[0m in \u001b[0;36m<listcomp>\u001b[0;34m(.0)\u001b[0m\n\u001b[1;32m     <a href='vscode-notebook-cell:/Users/kristoffer/github/aoc2022/7/7.ipynb#W2sZmlsZQ%3D%3D?line=25'>26</a>\u001b[0m \u001b[39mdef\u001b[39;00m \u001b[39mget_size\u001b[39m(\u001b[39mself\u001b[39m) \u001b[39m-\u001b[39m\u001b[39m>\u001b[39m \u001b[39mint\u001b[39m:\n\u001b[0;32m---> <a href='vscode-notebook-cell:/Users/kristoffer/github/aoc2022/7/7.ipynb#W2sZmlsZQ%3D%3D?line=27'>28</a>\u001b[0m   \u001b[39mreturn\u001b[39;00m \u001b[39msum\u001b[39m([child\u001b[39m.\u001b[39;49mget_size() \u001b[39mfor\u001b[39;00m child \u001b[39min\u001b[39;00m \u001b[39mself\u001b[39m\u001b[39m.\u001b[39mchilds\u001b[39m.\u001b[39mvalues()])\n",
      "\u001b[0;31mAttributeError\u001b[0m: 'file_obj' object has no attribute 'get_size'"
     ]
    }
   ],
   "source": [
    "root_folder.get_size()"
   ]
  },
  {
   "cell_type": "code",
   "execution_count": 65,
   "metadata": {},
   "outputs": [
    {
     "data": {
      "text/plain": [
       "{'e': <__main__.folder at 0x110257d90>}"
      ]
     },
     "execution_count": 65,
     "metadata": {},
     "output_type": "execute_result"
    }
   ],
   "source": [
    "root_folder.childs['a'].childs['e'].childs['e'].childs"
   ]
  }
 ],
 "metadata": {
  "kernelspec": {
   "display_name": "Python 3.10.2 64-bit ('3.10.2')",
   "language": "python",
   "name": "python3"
  },
  "language_info": {
   "codemirror_mode": {
    "name": "ipython",
    "version": 3
   },
   "file_extension": ".py",
   "mimetype": "text/x-python",
   "name": "python",
   "nbconvert_exporter": "python",
   "pygments_lexer": "ipython3",
   "version": "3.10.2"
  },
  "orig_nbformat": 4,
  "vscode": {
   "interpreter": {
    "hash": "0b0ef6e9b4263cd5b5701e9a8bec4b669e6d0deb6851fa2dee2e6e4c780046d2"
   }
  }
 },
 "nbformat": 4,
 "nbformat_minor": 2
}
