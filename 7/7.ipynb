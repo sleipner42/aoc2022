{
 "cells": [
  {
   "cell_type": "code",
   "execution_count": 169,
   "metadata": {},
   "outputs": [],
   "source": [
    "with open('data.txt') as file:\n",
    "    data = file.read().splitlines()"
   ]
  },
  {
   "cell_type": "code",
   "execution_count": 170,
   "metadata": {},
   "outputs": [],
   "source": [
    "class file_obj:\n",
    "  def __init__(self, name, size, parent):\n",
    "    self.name = name\n",
    "    self.size = size \n",
    "    self.parent = parent\n",
    "\n",
    "  def get_size(self):\n",
    "    return int(self.size)\n",
    "    \n",
    "\n",
    "class folder:\n",
    "  def __init__(self, name, childs, parent):\n",
    "    self.name = name\n",
    "    self.childs = childs\n",
    "    self.parent = parent\n",
    "\n",
    "  \n",
    "  def get_size(self) -> int:\n",
    "    \n",
    "    return sum([child.get_size() for child in self.childs.values()])\n",
    "\n",
    "  def get_folders(self):\n",
    "\n",
    "    folders = [item for item in self.childs.values() if isinstance(item, folder)]\n",
    "\n",
    "    return folders\n",
    "\n",
    "  def get_all_folders(self):\n",
    "\n",
    "    all_folders = []\n",
    "\n",
    "    for folders in self.get_folders():\n",
    "      all_folders += folders.get_all_folders()\n",
    "\n",
    "    all_folders.append(self)\n",
    "\n",
    "    return all_folders\n"
   ]
  },
  {
   "cell_type": "code",
   "execution_count": 171,
   "metadata": {},
   "outputs": [
    {
     "data": {
      "text/plain": [
       "1642503"
      ]
     },
     "execution_count": 171,
     "metadata": {},
     "output_type": "execute_result"
    }
   ],
   "source": [
    "root_folder = folder('/', {}, None)\n",
    "current_folder = root_folder\n",
    "\n",
    "for line in data:\n",
    "\n",
    "    if line[:4] == '$ cd':\n",
    "        if line[5:] == '/':\n",
    "            current_folder = root_folder\n",
    "        \n",
    "        elif line[5:] == '..':\n",
    "            current_folder = current_folder.parent\n",
    "        \n",
    "        else:\n",
    "\n",
    "            folder_name = line[5:]\n",
    "            if folder_name in current_folder.childs.keys():\n",
    "                current_folder = current_folder.childs[folder_name]\n",
    "            else:\n",
    "                new_folder = folder(folder_name, {}, current_folder)\n",
    "                current_folder.childs[folder_name] = new_folder\n",
    "                current_folder = new_folder\n",
    "        \n",
    "                \n",
    "    elif line[:4] == '$ ls':\n",
    "        continue\n",
    "\n",
    "    elif line[:3] == 'dir':\n",
    "        \n",
    "        folder_name = line[4:]\n",
    "\n",
    "        if folder_name not in current_folder.childs.keys():\n",
    "        \n",
    "            new_folder = folder(folder_name, {}, current_folder)\n",
    "            current_folder.childs[folder_name] = new_folder\n",
    "        \n",
    "    else:\n",
    "        \n",
    "        file_size, file_name  = line.split()\n",
    "    \n",
    "\n",
    "        if file_name not in current_folder.childs.keys():\n",
    "            new_file = file_obj(file_name, int(file_size), current_folder)\n",
    "            current_folder.childs[file_name] = new_file\n",
    "\n",
    "sum([f.get_size() for f in root_folder.get_all_folders() if f.get_size() < 100000])"
   ]
  },
  {
   "cell_type": "code",
   "execution_count": 172,
   "metadata": {},
   "outputs": [
    {
     "data": {
      "text/plain": [
       "6999588"
      ]
     },
     "execution_count": 172,
     "metadata": {},
     "output_type": "execute_result"
    }
   ],
   "source": [
    "total_space = 70000000\n",
    "space_wanted = 30000000\n",
    "space_used = root_folder.get_size()\n",
    "unused_space = total_space - space_used\n",
    "\n",
    "file_size_to_delete = space_wanted -  unused_space\n",
    "\n",
    "min([f.get_size() for f in root_folder.get_all_folders() if f.get_size() > file_size_to_delete])"
   ]
  }
 ],
 "metadata": {
  "kernelspec": {
   "display_name": "Python 3.10.2 64-bit ('3.10.2')",
   "language": "python",
   "name": "python3"
  },
  "language_info": {
   "codemirror_mode": {
    "name": "ipython",
    "version": 3
   },
   "file_extension": ".py",
   "mimetype": "text/x-python",
   "name": "python",
   "nbconvert_exporter": "python",
   "pygments_lexer": "ipython3",
   "version": "3.10.2"
  },
  "orig_nbformat": 4,
  "vscode": {
   "interpreter": {
    "hash": "0b0ef6e9b4263cd5b5701e9a8bec4b669e6d0deb6851fa2dee2e6e4c780046d2"
   }
  }
 },
 "nbformat": 4,
 "nbformat_minor": 2
}
