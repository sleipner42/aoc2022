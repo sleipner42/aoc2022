{
 "cells": [
  {
   "cell_type": "code",
   "execution_count": 114,
   "metadata": {},
   "outputs": [],
   "source": [
    "from collections import defaultdict\n",
    "import heapq as heap\n",
    "import numpy as np"
   ]
  },
  {
   "cell_type": "code",
   "execution_count": 115,
   "metadata": {},
   "outputs": [],
   "source": [
    "with open('data.txt') as file:\n",
    "    data = file.read().splitlines()\n",
    "\n",
    "nrs = np.array([[ord(a) for a in b.replace('S', 'a').replace('E', 'z')] for b in data])\n",
    "data = np.array([[a for a in b] for b in data])\n",
    "\n",
    "E_0 = (data == 'E').argmax(axis=0).max()\n",
    "E_1 = (data == 'E').argmax(axis=1).max()\n",
    "\n",
    "S_0 = (data == 'S').argmax(axis=0).max()\n",
    "S_1 = (data == 'S').argmax(axis=1).max()"
   ]
  },
  {
   "cell_type": "code",
   "execution_count": 116,
   "metadata": {},
   "outputs": [
    {
     "data": {
      "text/plain": [
       "472.0"
      ]
     },
     "execution_count": 116,
     "metadata": {},
     "output_type": "execute_result"
    }
   ],
   "source": [
    "def get_neighbours(data, x, y):\n",
    "\n",
    "    neighs = []\n",
    "    curr = data[x, y]\n",
    "\n",
    "    new_x = min(x+1, data.shape[0] - 1)\n",
    "    new_y = min(y+1, data.shape[1] - 1)\n",
    "\n",
    "    new_x_2 = max(x-1, 0)\n",
    "    new_y_2 = max(y-1, 0)\n",
    "\n",
    "    if x != new_x:\n",
    "        if data[new_x, y] <= curr + 1:\n",
    "            neighs.append((new_x, y))\n",
    "    \n",
    "    if x != new_x_2:\n",
    "        if data[new_x_2, y] <= curr + 1:\n",
    "            neighs.append((new_x_2, y))\n",
    "\n",
    "    if y != new_y:\n",
    "        if data[x, new_y] <= curr + 1:\n",
    "            neighs.append((x, new_y))\n",
    "\n",
    "    if y != new_y_2:\n",
    "        if data[x, new_y_2] <= curr + 1:\n",
    "            neighs.append((x, new_y_2))\n",
    "\n",
    "    return set(neighs)\n",
    "\n",
    "def search(data, S_0, S_1):\n",
    "\n",
    "    costs = np.ones(data.shape) * np.inf\n",
    "    costs[S_0,S_1] = 0\n",
    "    visited = set()\n",
    "\n",
    "    pq = []\n",
    "\n",
    "    heap.heappush(pq, (0, (S_0,S_1)))\n",
    "\n",
    "    while pq:\n",
    "\n",
    "        _, node = heap.heappop(pq)\n",
    "        visited.add(node)\n",
    "\n",
    "        for adj_node in get_neighbours(data, *node):\n",
    "            if adj_node in visited: continue\n",
    "\n",
    "            newCost = costs[node] + 1\n",
    "\n",
    "            if costs[adj_node] > newCost:\n",
    "                costs[adj_node] = newCost\n",
    "                heap.heappush(pq, (newCost, adj_node))\n",
    "\n",
    "\n",
    "    return costs\n",
    "\n",
    "search(nrs, S_0=S_0, S_1=S_1)[E_0, E_1]"
   ]
  },
  {
   "cell_type": "code",
   "execution_count": 117,
   "metadata": {},
   "outputs": [
    {
     "data": {
      "text/plain": [
       "465.0"
      ]
     },
     "execution_count": 117,
     "metadata": {},
     "output_type": "execute_result"
    }
   ],
   "source": [
    "a_s = []\n",
    "\n",
    "for x in range(nrs.shape[0]):\n",
    "    for y in range(nrs.shape[1]):\n",
    "\n",
    "        if nrs[x, y] == ord('a'):\n",
    "            a_s.append(search(nrs, S_0=x, S_1=y)[E_0, E_1])\n",
    "\n",
    "min(a_s)"
   ]
  }
 ],
 "metadata": {
  "kernelspec": {
   "display_name": "Python 3",
   "language": "python",
   "name": "python3"
  },
  "language_info": {
   "codemirror_mode": {
    "name": "ipython",
    "version": 3
   },
   "file_extension": ".py",
   "mimetype": "text/x-python",
   "name": "python",
   "nbconvert_exporter": "python",
   "pygments_lexer": "ipython3",
   "version": "3.11.1 (main, Dec 18 2022, 21:12:09) [Clang 14.0.0 (clang-1400.0.29.202)]"
  },
  "orig_nbformat": 4,
  "vscode": {
   "interpreter": {
    "hash": "21cb412c7ab3e231a2465a014a22826e8d2cd96df42ac20cbd8cdb7b7a3d1212"
   }
  }
 },
 "nbformat": 4,
 "nbformat_minor": 2
}
