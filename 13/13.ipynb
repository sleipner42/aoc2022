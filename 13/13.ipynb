{
 "cells": [
  {
   "cell_type": "code",
   "execution_count": 118,
   "metadata": {},
   "outputs": [],
   "source": [
    "import json\n",
    "from functools import cmp_to_key\n",
    "\n",
    "with open('data.txt') as file:\n",
    "    data = file.read().split('\\n\\n')\n",
    "\n",
    "with open('data.txt') as file:\n",
    "    data2 = file.read().split()"
   ]
  },
  {
   "cell_type": "code",
   "execution_count": 119,
   "metadata": {},
   "outputs": [
    {
     "data": {
      "text/plain": [
       "4643"
      ]
     },
     "execution_count": 119,
     "metadata": {},
     "output_type": "execute_result"
    }
   ],
   "source": [
    "def compare_lists(left, right):\n",
    "\n",
    "    if isinstance(right, int) and isinstance(left, int):\n",
    "        if left < right:\n",
    "            return True\n",
    "        elif left > right:\n",
    "            return False\n",
    "    else:\n",
    "        left = [left] if isinstance(left, int) else left\n",
    "        right = [right] if isinstance(right, int) else right\n",
    "\n",
    "        while len(left) > 0 or len(right) > 0:\n",
    "\n",
    "            if len(right) == 0:\n",
    "                return False\n",
    "            elif len(left) == 0:\n",
    "                return True\n",
    "            \n",
    "            l1 = left.pop(0)\n",
    "            r1 = right.pop(0)\n",
    "\n",
    "            res = compare_lists(l1, r1)\n",
    "\n",
    "            if res is not None:\n",
    "                return res\n",
    "\n",
    "    return None\n",
    "\n",
    "total_sum = 0\n",
    "\n",
    "for idx, lines in enumerate(data):\n",
    "    \n",
    "    line1, line2 = lines.split()\n",
    "    line1 = json.loads(line1)\n",
    "    line2 = json.loads(line2)\n",
    "\n",
    "    if compare_lists(line1, line2):\n",
    "        total_sum+= idx + 1\n",
    "    \n",
    "total_sum  "
   ]
  },
  {
   "cell_type": "code",
   "execution_count": 120,
   "metadata": {},
   "outputs": [
    {
     "data": {
      "text/plain": [
       "21614"
      ]
     },
     "execution_count": 120,
     "metadata": {},
     "output_type": "execute_result"
    }
   ],
   "source": [
    "dividers = ['[[2]]', '[[6]]']\n",
    "items = [i for i in data2] + dividers\n",
    "\n",
    "sorted_list = sorted(items, key=cmp_to_key(lambda x, y: 1 if compare_lists(json.loads(x), json.loads(y)) else -1))[::-1]\n",
    "\n",
    "(sorted_list.index(dividers[0]) + 1) * (sorted_list.index(dividers[1]) + 1)"
   ]
  }
 ],
 "metadata": {
  "kernelspec": {
   "display_name": "Python 3.10.2 64-bit ('3.10.2')",
   "language": "python",
   "name": "python3"
  },
  "language_info": {
   "codemirror_mode": {
    "name": "ipython",
    "version": 3
   },
   "file_extension": ".py",
   "mimetype": "text/x-python",
   "name": "python",
   "nbconvert_exporter": "python",
   "pygments_lexer": "ipython3",
   "version": "3.10.2"
  },
  "orig_nbformat": 4,
  "vscode": {
   "interpreter": {
    "hash": "0b0ef6e9b4263cd5b5701e9a8bec4b669e6d0deb6851fa2dee2e6e4c780046d2"
   }
  }
 },
 "nbformat": 4,
 "nbformat_minor": 2
}
