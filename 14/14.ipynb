{
 "cells": [
  {
   "cell_type": "code",
   "execution_count": 93,
   "metadata": {},
   "outputs": [],
   "source": [
    "import numpy as np\n",
    "from IPython.display import clear_output\n",
    "import time\n",
    "\n",
    "with open('data.txt') as file:\n",
    "    data = file.read()"
   ]
  },
  {
   "cell_type": "code",
   "execution_count": 94,
   "metadata": {},
   "outputs": [],
   "source": [
    "all_nrs = [int(a) for a in data.replace(' -> ', ',').replace('\\n',',').split(',')]\n",
    "\n",
    "x_max = min(all_nrs[0::2]), max(all_nrs[0::2])\n",
    "y_max = min(all_nrs[1::2]), max(all_nrs[1::2])"
   ]
  },
  {
   "cell_type": "code",
   "execution_count": 104,
   "metadata": {},
   "outputs": [],
   "source": [
    "matrix = np.zeros((y_max[1] + 10, x_max[1] + 500)).astype(str)\n",
    "matrix[:,:] = ' '\n",
    "\n",
    "for line in data.splitlines():\n",
    "    cords = line.split(' ->')\n",
    "\n",
    "    last_c = cords[0]\n",
    "\n",
    "    for c in cords[1:]:\n",
    "        x,y = eval(c)\n",
    "        last_x, last_y = eval(last_c)\n",
    "        \n",
    "        matrix[min(last_y, y):max(last_y, y)+1, min(last_x, x):max(last_x, x)+1] = '#'\n",
    "        last_c = c\n"
   ]
  },
  {
   "cell_type": "code",
   "execution_count": 111,
   "metadata": {},
   "outputs": [
    {
     "name": "stdout",
     "output_type": "stream",
     "text": [
      "885\n"
     ]
    }
   ],
   "source": [
    "def simulate_sand(matrix, x, y):\n",
    "    pos = [y, x]\n",
    "    m = matrix.copy()\n",
    "\n",
    "    while True:          \n",
    "        y, x = pos\n",
    "        if y < matrix.shape[0] - 1 and x < matrix.shape[1] - 1:\n",
    "            if m[y+1, x] != ' ':\n",
    "                if m[y+1, x-1] == ' ':\n",
    "                    pos = [y+1, x-1]\n",
    "                elif m[y+1, x+1] == ' ':\n",
    "                    pos = [y+1, x+1]\n",
    "                else:\n",
    "                    break\n",
    "            else:\n",
    "                pos = [y+1, x]\n",
    "        else:\n",
    "            return None\n",
    "\n",
    "    m[pos[0], pos[1]] = 'o'\n",
    "    return m\n",
    "\n",
    "\n",
    "m = matrix.copy()\n",
    "while True:\n",
    "    ret = simulate_sand(m, 500, 0)\n",
    "    if ret is None:\n",
    "        break\n",
    "    else:\n",
    "        m = ret\n",
    "\n",
    "print((m == 'o').sum())"
   ]
  },
  {
   "cell_type": "code",
   "execution_count": 112,
   "metadata": {},
   "outputs": [
    {
     "name": "stdout",
     "output_type": "stream",
     "text": [
      "28691\n"
     ]
    }
   ],
   "source": [
    "m = matrix.copy()\n",
    "m[y_max[1] + 2, :] = '#'\n",
    "\n",
    "while True:\n",
    "    \n",
    "    ret = simulate_sand(m, 500, 0)\n",
    "\n",
    "    if ret is None:\n",
    "        break\n",
    "    elif ret[0, 500] == 'o':\n",
    "        m = ret\n",
    "        break\n",
    "    else:\n",
    "        m = ret\n",
    "\n",
    "print((m == 'o').sum())"
   ]
  }
 ],
 "metadata": {
  "kernelspec": {
   "display_name": "Python 3.10.2 64-bit ('3.10.2')",
   "language": "python",
   "name": "python3"
  },
  "language_info": {
   "codemirror_mode": {
    "name": "ipython",
    "version": 3
   },
   "file_extension": ".py",
   "mimetype": "text/x-python",
   "name": "python",
   "nbconvert_exporter": "python",
   "pygments_lexer": "ipython3",
   "version": "3.10.2"
  },
  "orig_nbformat": 4,
  "vscode": {
   "interpreter": {
    "hash": "0b0ef6e9b4263cd5b5701e9a8bec4b669e6d0deb6851fa2dee2e6e4c780046d2"
   }
  }
 },
 "nbformat": 4,
 "nbformat_minor": 2
}
