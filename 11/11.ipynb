{
 "cells": [
  {
   "cell_type": "code",
   "execution_count": 13,
   "metadata": {},
   "outputs": [],
   "source": [
    "import regex\n",
    "import numpy as np\n",
    "import math\n",
    "\n",
    "with open('data.txt') as file:\n",
    "    data = file.read().split('\\n\\n')\n",
    "\n",
    "from tqdm import tqdm"
   ]
  },
  {
   "cell_type": "code",
   "execution_count": 14,
   "metadata": {},
   "outputs": [],
   "source": [
    "def get_monkeys():\n",
    "    monkeys = []\n",
    "\n",
    "    for m in data:\n",
    "        lines = m.splitlines()\n",
    "\n",
    "        monkey = {}\n",
    "\n",
    "        monkey['nr'] = int(lines[0].split()[-1].replace(':', ''))\n",
    "        monkey['items'] =  [int(a) for a in lines[1].split(': ')[-1].split(',')]\n",
    "\n",
    "        monkey['operation'] = lines[2].split(': ')[-1].split('= ')[-1]\n",
    "\n",
    "        monkey['test'] = int(lines[3].split('by ')[-1])\n",
    "\n",
    "        monkey['true'] = int(lines[4].split(' ')[-1])\n",
    "        monkey['false'] = int(lines[5].split(' ')[-1])\n",
    "\n",
    "        monkey['inspections'] = 0\n",
    "\n",
    "        monkeys.append(monkey)\n",
    "\n",
    "    return monkeys\n"
   ]
  },
  {
   "cell_type": "code",
   "execution_count": 15,
   "metadata": {},
   "outputs": [
    {
     "data": {
      "text/plain": [
       "78678"
      ]
     },
     "execution_count": 15,
     "metadata": {},
     "output_type": "execute_result"
    }
   ],
   "source": [
    "rounds = 20\n",
    "monkeys = get_monkeys()\n",
    "\n",
    "for n in range(rounds * len(monkeys)):\n",
    "   \n",
    "    monkey = monkeys[n % len(monkeys)]\n",
    "\n",
    "    for item in monkey['items']:\n",
    "        old = item\n",
    "        new = eval(monkey['operation'])\n",
    "        \n",
    "        new = new // 3\n",
    "\n",
    "        if new % monkey['test'] == 0:\n",
    "            monkeys[monkey['true']]['items'].append(new)\n",
    "        else:\n",
    "            monkeys[monkey['false']]['items'].append(new)\n",
    "        \n",
    "        monkey['inspections'] +=1\n",
    "\n",
    "    monkey['items'] = []\n",
    "\n",
    "a, b = sorted([m['inspections'] for m in monkeys])[-2:]\n",
    "a*b"
   ]
  },
  {
   "cell_type": "code",
   "execution_count": 16,
   "metadata": {},
   "outputs": [
    {
     "name": "stderr",
     "output_type": "stream",
     "text": [
      "100%|██████████| 80000/80000 [04:16<00:00, 311.54it/s]\n"
     ]
    },
    {
     "data": {
      "text/plain": [
       "[123834, 112260, 118063, 123821, 11603, 118089, 123818, 55724]"
      ]
     },
     "execution_count": 16,
     "metadata": {},
     "output_type": "execute_result"
    }
   ],
   "source": [
    "cache = {}\n",
    "\n",
    "def calculate_sign(monkeys, n):\n",
    "\n",
    "    old = n\n",
    "    sign = []\n",
    "\n",
    "    for monkey in monkeys:\n",
    "        \n",
    "        new = eval(monkey['operation'])\n",
    "        sign.append(new % monkey['test'])\n",
    "\n",
    "    return tuple(sign)\n",
    "\n",
    "def calc(monkeys, n):\n",
    "    old = n\n",
    "    sign = []\n",
    "\n",
    "    for monkey in monkeys:\n",
    "        \n",
    "        new = eval(monkey['operation'])\n",
    "        sign.append(calculate_sign(monkeys, new))\n",
    "\n",
    "    return tuple(sign)\n",
    "\n",
    "def reduce_number(monkeys, n):\n",
    "\n",
    "    sign = calc(monkeys, n)\n",
    "    \n",
    "    cached = cache.get(sign, None)\n",
    "\n",
    "    if cached is None:\n",
    "        cache[sign] = n\n",
    "        return n\n",
    "    elif cached < n:\n",
    "        return cached\n",
    "    else:\n",
    "        cache[sign] = n\n",
    "        return n\n",
    "\n",
    "rounds = 10000\n",
    "monkeys = get_monkeys()\n",
    "\n",
    "for n in tqdm(range(rounds * len(monkeys))):\n",
    "   \n",
    "    monkey = monkeys[n % len(monkeys)]\n",
    "\n",
    "    for item in monkey['items']:\n",
    "        old = item\n",
    "        new = eval(monkey['operation'])\n",
    "        new = reduce_number(monkeys, new)\n",
    "        \n",
    "\n",
    "        if new % monkey['test'] == 0:\n",
    "            monkeys[monkey['true']]['items'].append(new)\n",
    "        else:\n",
    "            monkeys[monkey['false']]['items'].append(new)\n",
    "        \n",
    "        monkey['inspections'] +=1\n",
    "\n",
    "    monkey['items'] = []"
   ]
  },
  {
   "cell_type": "code",
   "execution_count": 17,
   "metadata": {},
   "outputs": [
    {
     "data": {
      "text/plain": [
       "15333249714"
      ]
     },
     "execution_count": 17,
     "metadata": {},
     "output_type": "execute_result"
    }
   ],
   "source": [
    "a, b = sorted([m['inspections'] for m in monkeys])[-2:]\n",
    "a*b"
   ]
  }
 ],
 "metadata": {
  "kernelspec": {
   "display_name": "Python 3.10.2 64-bit ('3.10.2')",
   "language": "python",
   "name": "python3"
  },
  "language_info": {
   "codemirror_mode": {
    "name": "ipython",
    "version": 3
   },
   "file_extension": ".py",
   "mimetype": "text/x-python",
   "name": "python",
   "nbconvert_exporter": "python",
   "pygments_lexer": "ipython3",
   "version": "3.10.2"
  },
  "orig_nbformat": 4,
  "vscode": {
   "interpreter": {
    "hash": "0b0ef6e9b4263cd5b5701e9a8bec4b669e6d0deb6851fa2dee2e6e4c780046d2"
   }
  }
 },
 "nbformat": 4,
 "nbformat_minor": 2
}
