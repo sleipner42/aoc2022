{
 "cells": [
  {
   "cell_type": "code",
   "execution_count": 131,
   "metadata": {},
   "outputs": [],
   "source": [
    "with open('data.txt') as file:\n",
    "    data = file.read().splitlines()"
   ]
  },
  {
   "cell_type": "code",
   "execution_count": 132,
   "metadata": {},
   "outputs": [
    {
     "data": {
      "text/plain": [
       "11820"
      ]
     },
     "execution_count": 132,
     "metadata": {},
     "output_type": "execute_result"
    }
   ],
   "source": [
    "x = [1]\n",
    "\n",
    "first_value = 0\n",
    "\n",
    "for line in data:\n",
    "\n",
    "    if 'addx' in line:\n",
    "        x.append(x[-1])\n",
    "        x.append(x[-1] + int(line.split()[-1]))\n",
    "    else:\n",
    "        x.append(x[-1])\n",
    "\n",
    "\n",
    "sum([x[n-1] * n for n in [20, 60, 100, 140, 180, 220]])"
   ]
  },
  {
   "cell_type": "code",
   "execution_count": 148,
   "metadata": {},
   "outputs": [
    {
     "name": "stdout",
     "output_type": "stream",
     "text": [
      "█ █ █ █   █ █ █         █ █   █ █ █     █ █ █     █     █     █ █     █     █   \n",
      "█         █     █         █   █     █   █     █   █   █     █     █   █     █   \n",
      "█ █ █     █     █         █   █ █ █     █     █   █ █       █     █   █ █ █ █   \n",
      "█         █ █ █           █   █     █   █ █ █     █   █     █ █ █ █   █     █   \n",
      "█         █         █     █   █     █   █   █     █   █     █     █   █     █   \n",
      "█ █ █ █   █           █ █     █ █ █     █     █   █     █   █     █   █     █   \n"
     ]
    }
   ],
   "source": [
    "def print_screen(screen):\n",
    "    for row in screen:\n",
    "        for c in row:\n",
    "            print(c, end=' ')\n",
    "        print('\\n', end='')\n",
    "\n",
    "screen = [[' '] * 40 for _ in range(6)]\n",
    "\n",
    "for cycle in range(40*6):\n",
    "\n",
    "    y_pos = cycle // 40\n",
    "    x_pos = cycle % 40\n",
    "\n",
    "    pos = x[cycle]\n",
    "\n",
    "    if x_pos >= pos - 1 and x_pos <= pos +1:\n",
    "        screen[y_pos][x_pos] = '█'\n",
    "\n",
    "print_screen(screen)"
   ]
  }
 ],
 "metadata": {
  "kernelspec": {
   "display_name": "Python 3.10.2 64-bit ('3.10.2')",
   "language": "python",
   "name": "python3"
  },
  "language_info": {
   "codemirror_mode": {
    "name": "ipython",
    "version": 3
   },
   "file_extension": ".py",
   "mimetype": "text/x-python",
   "name": "python",
   "nbconvert_exporter": "python",
   "pygments_lexer": "ipython3",
   "version": "3.10.2"
  },
  "orig_nbformat": 4,
  "vscode": {
   "interpreter": {
    "hash": "0b0ef6e9b4263cd5b5701e9a8bec4b669e6d0deb6851fa2dee2e6e4c780046d2"
   }
  }
 },
 "nbformat": 4,
 "nbformat_minor": 2
}
