{
 "cells": [
  {
   "cell_type": "code",
   "execution_count": 15,
   "metadata": {},
   "outputs": [],
   "source": [
    "import numpy as np"
   ]
  },
  {
   "cell_type": "code",
   "execution_count": 71,
   "metadata": {},
   "outputs": [],
   "source": [
    "with open('data.txt') as file:\n",
    "    data = file.read().splitlines()"
   ]
  },
  {
   "cell_type": "code",
   "execution_count": 54,
   "metadata": {},
   "outputs": [],
   "source": [
    "data = \"\"\"2-4,6-8\n",
    "2-3,4-5\n",
    "5-7,7-9\n",
    "2-8,3-7\n",
    "6-6,4-6\n",
    "2-6,4-8\n",
    "\"\"\".splitlines()"
   ]
  },
  {
   "cell_type": "code",
   "execution_count": 90,
   "metadata": {},
   "outputs": [
    {
     "data": {
      "text/plain": [
       "564"
      ]
     },
     "execution_count": 90,
     "metadata": {},
     "output_type": "execute_result"
    }
   ],
   "source": [
    "count = 0\n",
    "\n",
    "for line in data:\n",
    "    elf1, elf2 = line.split(',')\n",
    "\n",
    "    elf1 = set(range(*[int(a) for a in elf1.split('-')]))\n",
    "    elf2 = set(range(*[int(a) for a in elf2.split('-')]))\n",
    "\n",
    "    count += 1 if len(elf1.intersection(elf2)) == min(len(elf1),len(elf2)) else 0\n",
    "\n",
    "count"
   ]
  },
  {
   "cell_type": "code",
   "execution_count": 92,
   "metadata": {},
   "outputs": [
    {
     "data": {
      "text/plain": [
       "528"
      ]
     },
     "execution_count": 92,
     "metadata": {},
     "output_type": "execute_result"
    }
   ],
   "source": [
    "count = 0\n",
    "\n",
    "\n",
    "for item in data:\n",
    "\n",
    "    elf1, elf2 = item.split(',')\n",
    "\n",
    "    elf1 = [int(a) for a in elf1.split('-')]\n",
    "    elf2 = [int(a) for a in elf2.split('-')]\n",
    "\n",
    "    if elf1[0] <= elf2[0] and elf1[1] >= elf2[1]:\n",
    "        count+=1\n",
    "    elif elf2[0] <= elf1[0] and elf2[1] >= elf1[1]:\n",
    "        count+=1\n",
    "\n",
    "count"
   ]
  },
  {
   "cell_type": "code",
   "execution_count": 72,
   "metadata": {},
   "outputs": [
    {
     "data": {
      "text/plain": [
       "881"
      ]
     },
     "execution_count": 72,
     "metadata": {},
     "output_type": "execute_result"
    }
   ],
   "source": [
    "count = 0\n",
    "\n",
    "\n",
    "for item in data:\n",
    "\n",
    "    elf1, elf2 = item.split(',')\n",
    "\n",
    "    elf1 = [int(a) for a in elf1.split('-')]\n",
    "    elf2 = [int(a) for a in elf2.split('-')]\n",
    "\n",
    "    lines = np.zeros((2, max(elf1 + elf2)))\n",
    "\n",
    "    lines[0, elf1[0] -1 : elf1[1]] = 1\n",
    "    lines[1, elf2[0] -1 : elf2[1]] = 1\n",
    "\n",
    "    if (lines.sum(axis=0) > 1).any():\n",
    "        count+=1\n",
    "\n",
    "count"
   ]
  }
 ],
 "metadata": {
  "kernelspec": {
   "display_name": "Python 3.10.2 64-bit ('3.10.2')",
   "language": "python",
   "name": "python3"
  },
  "language_info": {
   "codemirror_mode": {
    "name": "ipython",
    "version": 3
   },
   "file_extension": ".py",
   "mimetype": "text/x-python",
   "name": "python",
   "nbconvert_exporter": "python",
   "pygments_lexer": "ipython3",
   "version": "3.10.2"
  },
  "orig_nbformat": 4,
  "vscode": {
   "interpreter": {
    "hash": "0b0ef6e9b4263cd5b5701e9a8bec4b669e6d0deb6851fa2dee2e6e4c780046d2"
   }
  }
 },
 "nbformat": 4,
 "nbformat_minor": 2
}
