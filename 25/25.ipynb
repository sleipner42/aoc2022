{
 "cells": [
  {
   "cell_type": "code",
   "execution_count": 1,
   "metadata": {},
   "outputs": [],
   "source": [
    "with open('data.txt') as file:\n",
    "    data = file.read().splitlines()"
   ]
  },
  {
   "cell_type": "code",
   "execution_count": 2,
   "metadata": {},
   "outputs": [
    {
     "data": {
      "text/plain": [
       "37018883152395"
      ]
     },
     "execution_count": 2,
     "metadata": {},
     "output_type": "execute_result"
    }
   ],
   "source": [
    "snafu = {\n",
    "    '0': 0,\n",
    "    '1': 1,\n",
    "    '2': 2,\n",
    "    '=':-2,\n",
    "    '-': -1,\n",
    "}\n",
    "\n",
    "snafu_rev = dict(zip(snafu.values(), snafu.keys()))\n",
    "\n",
    "all_numbers = 0\n",
    "\n",
    "for number in data:\n",
    "\n",
    "    nr_sum = 0\n",
    "\n",
    "    for idx, char in enumerate(number[::-1]):\n",
    "        nr_sum += 5**idx * snafu[char]\n",
    "\n",
    "    all_numbers += nr_sum\n",
    "\n",
    "all_numbers"
   ]
  },
  {
   "cell_type": "code",
   "execution_count": 3,
   "metadata": {},
   "outputs": [
    {
     "data": {
      "text/plain": [
       "'20-==01-2-=1-2---1-0'"
      ]
     },
     "execution_count": 3,
     "metadata": {},
     "output_type": "execute_result"
    }
   ],
   "source": [
    "i = all_numbers\n",
    "snafy_nr = ''\n",
    "\n",
    "while i != 0:\n",
    "    nr, r = divmod(i, 5)\n",
    "\n",
    "    if r in [0,1,2]:\n",
    "        snafy_nr = snafu_rev[r] + snafy_nr\n",
    "        i = nr\n",
    "    else:\n",
    "        if r == 3:\n",
    "            snafy_nr = '=' + snafy_nr\n",
    "            i = (i+2) // 5\n",
    "        elif r == 4:\n",
    "            snafy_nr = '-' + snafy_nr\n",
    "            i = (i+1) // 5\n",
    "\n",
    "snafy_nr"
   ]
  }
 ],
 "metadata": {
  "kernelspec": {
   "display_name": "Python 3",
   "language": "python",
   "name": "python3"
  },
  "language_info": {
   "codemirror_mode": {
    "name": "ipython",
    "version": 3
   },
   "file_extension": ".py",
   "mimetype": "text/x-python",
   "name": "python",
   "nbconvert_exporter": "python",
   "pygments_lexer": "ipython3",
   "version": "3.11.1"
  },
  "orig_nbformat": 4,
  "vscode": {
   "interpreter": {
    "hash": "21cb412c7ab3e231a2465a014a22826e8d2cd96df42ac20cbd8cdb7b7a3d1212"
   }
  }
 },
 "nbformat": 4,
 "nbformat_minor": 2
}
