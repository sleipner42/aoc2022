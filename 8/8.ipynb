{
 "cells": [
  {
   "cell_type": "code",
   "execution_count": 180,
   "metadata": {},
   "outputs": [],
   "source": [
    "import numpy as np"
   ]
  },
  {
   "cell_type": "code",
   "execution_count": 181,
   "metadata": {},
   "outputs": [],
   "source": [
    "with open('data.txt') as file:\n",
    "    data = file.read().splitlines()\n",
    "\n",
    "height_data = np.array([list(d) for d in data], int)"
   ]
  },
  {
   "cell_type": "code",
   "execution_count": 182,
   "metadata": {},
   "outputs": [
    {
     "data": {
      "text/plain": [
       "1851"
      ]
     },
     "execution_count": 182,
     "metadata": {},
     "output_type": "execute_result"
    }
   ],
   "source": [
    "visible = sum((height_data.shape*2)) - 4\n",
    "\n",
    "for row_idx in range(1, height_data.shape[0] - 1):\n",
    "    for col_idx in range(1, height_data.shape[1] -1):   \n",
    "        \n",
    "        tree = height_data[row_idx, col_idx]\n",
    "        row = height_data[row_idx, :]\n",
    "        column = height_data[:, col_idx]\n",
    "        \n",
    "        # View 1\n",
    "        temp_row = row[:col_idx + 1]\n",
    "        if temp_row.argmax() == col_idx:\n",
    "            visible+=1\n",
    "            continue\n",
    "\n",
    "        # View 2\n",
    "        temp_col_idx = len(row) - col_idx - 1\n",
    "        temp_row = row[col_idx:][::-1]\n",
    "        if temp_row.argmax() == temp_col_idx:\n",
    "            visible+=1\n",
    "            continue\n",
    "\n",
    "        # View 1 col\n",
    "        temp_col = column[:row_idx + 1]\n",
    "        if temp_col.argmax() == row_idx:\n",
    "            visible+=1\n",
    "            continue\n",
    "\n",
    "\n",
    "        # View 2 col\n",
    "        temp_row_idx = len(column) - row_idx - 1\n",
    "        temp_column = column[row_idx:][::-1]\n",
    "        if temp_column.argmax() == temp_row_idx:\n",
    "            visible+=1\n",
    "            continue\n",
    "\n",
    "visible"
   ]
  },
  {
   "cell_type": "code",
   "execution_count": 184,
   "metadata": {},
   "outputs": [
    {
     "data": {
      "text/plain": [
       "574080"
      ]
     },
     "execution_count": 184,
     "metadata": {},
     "output_type": "execute_result"
    }
   ],
   "source": [
    "all_points = []\n",
    "\n",
    "for row_idx in range(1, height_data.shape[0] - 1):\n",
    "    for col_idx in range(1, height_data.shape[1] -1):   \n",
    "        \n",
    "        tree = height_data[row_idx, col_idx]\n",
    "        row = height_data[row_idx, :]\n",
    "        column = height_data[:, col_idx]\n",
    "\n",
    "        view_2 = row[:col_idx][::-1]\n",
    "        view_4 = row[col_idx + 1:]\n",
    "        view_1 = column[:row_idx][::-1]\n",
    "        view_3 = column[row_idx + 1:]\n",
    "\n",
    "        views = [view_1, view_2, view_3, view_4]\n",
    "\n",
    "        points = 1\n",
    "        for view in views:\n",
    "\n",
    "            view = view < tree\n",
    "            \n",
    "            if view.all():\n",
    "                points *= (view.sum())\n",
    "            else:\n",
    "                points *= (view.argmin()+1)\n",
    "\n",
    "        \n",
    "        all_points.append(points)\n",
    "\n",
    "max(all_points)"
   ]
  }
 ],
 "metadata": {
  "kernelspec": {
   "display_name": "Python 3.10.2 64-bit ('3.10.2')",
   "language": "python",
   "name": "python3"
  },
  "language_info": {
   "codemirror_mode": {
    "name": "ipython",
    "version": 3
   },
   "file_extension": ".py",
   "mimetype": "text/x-python",
   "name": "python",
   "nbconvert_exporter": "python",
   "pygments_lexer": "ipython3",
   "version": "3.10.2"
  },
  "orig_nbformat": 4,
  "vscode": {
   "interpreter": {
    "hash": "0b0ef6e9b4263cd5b5701e9a8bec4b669e6d0deb6851fa2dee2e6e4c780046d2"
   }
  }
 },
 "nbformat": 4,
 "nbformat_minor": 2
}
