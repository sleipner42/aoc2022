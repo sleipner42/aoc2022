{
 "cells": [
  {
   "cell_type": "code",
   "execution_count": 150,
   "metadata": {},
   "outputs": [],
   "source": [
    "from tqdm import tqdm\n",
    "import re\n",
    "import numpy as np\n",
    "\n",
    "import sys\n",
    "sys.setrecursionlimit(5000)\n",
    "\n",
    "with open('data.txt') as file:\n",
    "    data = file.read().splitlines()"
   ]
  },
  {
   "cell_type": "code",
   "execution_count": 151,
   "metadata": {},
   "outputs": [
    {
     "data": {
      "text/plain": [
       "3326"
      ]
     },
     "execution_count": 151,
     "metadata": {},
     "output_type": "execute_result"
    }
   ],
   "source": [
    "sides = []\n",
    "cubes = []\n",
    "\n",
    "for line in data:\n",
    "\n",
    "    point = eval(line)\n",
    "    cubes.append(point)\n",
    "    # get neighbours\n",
    "    sides.append((point[0] - 1, point[1], point[2]))\n",
    "    sides.append((point[0] + 1, point[1], point[2]))\n",
    "    sides.append((point[0], point[1] - 1, point[2]))\n",
    "    sides.append((point[0], point[1] + 1, point[2]))\n",
    "    sides.append((point[0], point[1], point[2] - 1))\n",
    "    sides.append((point[0], point[1], point[2] + 1))\n",
    "\n",
    "len([side for side in sides if side not in cubes])"
   ]
  },
  {
   "cell_type": "code",
   "execution_count": 152,
   "metadata": {},
   "outputs": [],
   "source": [
    "def get_neighbours(data, x, y, z):\n",
    "\n",
    "    neighs = []\n",
    "    curr = data[x, y, z]\n",
    "\n",
    "    new_x = min(x+1, data.shape[0] - 1)\n",
    "    new_y = min(y+1, data.shape[1] - 1)\n",
    "    new_z = min(z+1, data.shape[2] - 1)\n",
    "\n",
    "    new_x_2 = max(x-1, 0)\n",
    "    new_y_2 = max(y-1, 0)\n",
    "    new_z_2 = max(z-1, 0)\n",
    "\n",
    "    if x != new_x:\n",
    "        if data[new_x, y, z] < 1:\n",
    "            neighs.append((new_x, y, z))\n",
    "    \n",
    "    if x != new_x_2:\n",
    "        if data[new_x_2, y, z] < 1:\n",
    "            neighs.append((new_x_2, y, z))\n",
    "\n",
    "    if y != new_y:\n",
    "        if data[x, new_y, z] < 1:\n",
    "            neighs.append((x, new_y, z))\n",
    "\n",
    "    if y != new_y_2:\n",
    "        if data[x, new_y_2, z] < 1:\n",
    "            neighs.append((x, new_y_2, z))\n",
    "\n",
    "    if z != new_z:\n",
    "        if data[x, y, new_z] < 1:\n",
    "            neighs.append((x, y, new_z))\n",
    "\n",
    "    if z != new_z_2:\n",
    "        if data[x, y, new_z_2] < 1:\n",
    "            neighs.append((x, y, new_z_2))\n",
    "\n",
    "    return set(neighs)"
   ]
  },
  {
   "cell_type": "code",
   "execution_count": 153,
   "metadata": {},
   "outputs": [],
   "source": [
    "space = np.zeros((np.array(cubes).max(axis=0) + 1))\n",
    "for cube in cubes:\n",
    "    space[cube[0], cube[1], cube[2]] = 1\n",
    "\n",
    "def flood_fill(data, x, y, z):\n",
    "\n",
    "    data[x, y, z] = 1\n",
    "\n",
    "    neighbours = get_neighbours(data, x, y, z)\n",
    "    for n in neighbours:\n",
    "        flood_fill(data, n[0], n[1], n[2])\n",
    "\n",
    "flood_fill(space, 0, 0, 0)\n",
    "\n",
    "non_filled = [tuple(a) for a in np.argwhere(space == 0).tolist()]"
   ]
  },
  {
   "cell_type": "code",
   "execution_count": 155,
   "metadata": {},
   "outputs": [
    {
     "data": {
      "text/plain": [
       "1996"
      ]
     },
     "execution_count": 155,
     "metadata": {},
     "output_type": "execute_result"
    }
   ],
   "source": [
    "len([side for side in sides if (side not in cubes and side not in non_filled)])"
   ]
  }
 ],
 "metadata": {
  "kernelspec": {
   "display_name": "Python 3.10.2 64-bit ('3.10.2')",
   "language": "python",
   "name": "python3"
  },
  "language_info": {
   "codemirror_mode": {
    "name": "ipython",
    "version": 3
   },
   "file_extension": ".py",
   "mimetype": "text/x-python",
   "name": "python",
   "nbconvert_exporter": "python",
   "pygments_lexer": "ipython3",
   "version": "3.10.2"
  },
  "orig_nbformat": 4,
  "vscode": {
   "interpreter": {
    "hash": "0b0ef6e9b4263cd5b5701e9a8bec4b669e6d0deb6851fa2dee2e6e4c780046d2"
   }
  }
 },
 "nbformat": 4,
 "nbformat_minor": 2
}
