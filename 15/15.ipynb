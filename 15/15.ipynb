{
 "cells": [
  {
   "cell_type": "code",
   "execution_count": 38,
   "metadata": {},
   "outputs": [],
   "source": [
    "import re\n",
    "from tqdm import tqdm\n",
    "import numpy as np\n",
    "\n",
    "with open('data.txt') as file:\n",
    "    data = file.read().splitlines()"
   ]
  },
  {
   "cell_type": "code",
   "execution_count": 43,
   "metadata": {},
   "outputs": [
    {
     "data": {
      "text/plain": [
       "4919281"
      ]
     },
     "execution_count": 43,
     "metadata": {},
     "output_type": "execute_result"
    }
   ],
   "source": [
    "sensors = set()\n",
    "beacons = set()\n",
    "non_allowed = set()\n",
    "\n",
    "row = 2000000\n",
    "\n",
    "for line in data:\n",
    "    s, b = line.split(':')\n",
    "    s_x,s_y = [int(a) for a in re.sub('[A-Za-z =]', '', s).split(',')]\n",
    "    b_x,b_y = [int(a) for a in re.sub('[A-Za-z =]', '', b).split(',')]\n",
    "\n",
    "    sensors.add((s_x,s_y))\n",
    "    beacons.add((b_x,b_y))\n",
    "\n",
    "    d_x = abs(s_x - b_x)\n",
    "    d_y = abs(s_y - b_y)\n",
    "\n",
    "    dist = d_x + d_y\n",
    "\n",
    "    dist_row_y = abs(row - s_y)\n",
    "    \n",
    "    temp = dist - dist_row_y\n",
    "\n",
    "    for x in range(s_x - temp, s_x + temp + 1):\n",
    "        non_allowed.add((x, row))\n",
    "\n",
    "len(list(non_allowed - beacons))"
   ]
  },
  {
   "cell_type": "code",
   "execution_count": 19,
   "metadata": {},
   "outputs": [
    {
     "data": {
      "text/plain": [
       "{(8, 10)}"
      ]
     },
     "execution_count": 19,
     "metadata": {},
     "output_type": "execute_result"
    }
   ],
   "source": [
    "non_allowed"
   ]
  },
  {
   "cell_type": "code",
   "execution_count": 3,
   "metadata": {},
   "outputs": [
    {
     "name": "stderr",
     "output_type": "stream",
     "text": [
      "  0%|          | 0/4626865 [00:00<?, ?it/s]\n"
     ]
    },
    {
     "ename": "KeyboardInterrupt",
     "evalue": "",
     "output_type": "error",
     "traceback": [
      "\u001b[0;31m---------------------------------------------------------------------------\u001b[0m",
      "\u001b[0;31mKeyboardInterrupt\u001b[0m                         Traceback (most recent call last)",
      "\u001b[1;32m/Users/kristoffer/github/aoc2022/15/15.ipynb Cell 3\u001b[0m in \u001b[0;36m<cell line: 17>\u001b[0;34m()\u001b[0m\n\u001b[1;32m     <a href='vscode-notebook-cell:/Users/kristoffer/github/aoc2022/15/15.ipynb#X13sZmlsZQ%3D%3D?line=31'>32</a>\u001b[0m \u001b[39mfor\u001b[39;00m y \u001b[39min\u001b[39;00m \u001b[39mrange\u001b[39m(\u001b[39mmin\u001b[39m(s_y \u001b[39m-\u001b[39m dist, limits[\u001b[39m0\u001b[39m]), \u001b[39mmax\u001b[39m(limits[\u001b[39m1\u001b[39m] \u001b[39m+\u001b[39m \u001b[39m1\u001b[39m, s_y \u001b[39m+\u001b[39m dist)):\n\u001b[1;32m     <a href='vscode-notebook-cell:/Users/kristoffer/github/aoc2022/15/15.ipynb#X13sZmlsZQ%3D%3D?line=33'>34</a>\u001b[0m     x_dist \u001b[39m=\u001b[39m \u001b[39mabs\u001b[39m(x \u001b[39m-\u001b[39m s_x)\n\u001b[0;32m---> <a href='vscode-notebook-cell:/Users/kristoffer/github/aoc2022/15/15.ipynb#X13sZmlsZQ%3D%3D?line=34'>35</a>\u001b[0m     y_dist \u001b[39m=\u001b[39m \u001b[39mabs\u001b[39;49m(y \u001b[39m-\u001b[39;49m s_y)\n\u001b[1;32m     <a href='vscode-notebook-cell:/Users/kristoffer/github/aoc2022/15/15.ipynb#X13sZmlsZQ%3D%3D?line=36'>37</a>\u001b[0m     \u001b[39mif\u001b[39;00m x_dist \u001b[39m+\u001b[39m y_dist \u001b[39m<\u001b[39m\u001b[39m=\u001b[39m dist:\n\u001b[1;32m     <a href='vscode-notebook-cell:/Users/kristoffer/github/aoc2022/15/15.ipynb#X13sZmlsZQ%3D%3D?line=37'>38</a>\u001b[0m         non_allowed\u001b[39m.\u001b[39madd((x,y))\n",
      "\u001b[0;31mKeyboardInterrupt\u001b[0m: "
     ]
    }
   ],
   "source": [
    "sensors = set()\n",
    "beacons = set()\n",
    "non_allowed = set()\n",
    "\n",
    "limits = [0, 4000000]\n",
    "\n",
    "def print_m(items):\n",
    "    m = np.zeros((12, 40)).astype(str)\n",
    "    m[:, :] = '.'\n",
    "\n",
    "    for c in list(items):\n",
    "        if c[0] > 0 and c[1] > 0:\n",
    "            m[c[1], c[0]] = '#'\n",
    "\n",
    "    return m \n",
    "\n",
    "for line in data:\n",
    "    s, b = line.split(':')\n",
    "    s_x,s_y = [int(a) for a in re.sub('[A-Za-z =]', '', s).split(',')]\n",
    "    b_x,b_y = [int(a) for a in re.sub('[A-Za-z =]', '', b).split(',')]\n",
    "\n",
    "    sensors.add((s_x,s_y))\n",
    "    beacons.add((b_x,b_y))\n",
    "\n",
    "    d_x = abs(s_x - b_x)\n",
    "    d_y = abs(s_y - b_y)\n",
    "\n",
    "    dist = d_x + d_y\n",
    "\n",
    "    \n",
    "    for x in tqdm(range(min(s_x - dist, limits[0]), max(limits[1] + 1, s_x + dist))):\n",
    "        for y in range(min(s_y - dist, limits[0]), max(limits[1] + 1, s_y + dist)):\n",
    "            \n",
    "            x_dist = abs(x - s_x)\n",
    "            y_dist = abs(y - s_y)\n",
    "\n",
    "            if x_dist + y_dist <= dist:\n",
    "                non_allowed.add((x,y))\n",
    "\n",
    "#non_allowed"
   ]
  },
  {
   "cell_type": "code",
   "execution_count": 2,
   "metadata": {},
   "outputs": [],
   "source": [
    "test = np.zeros((4000000, 4000000))"
   ]
  },
  {
   "cell_type": "code",
   "execution_count": 5,
   "metadata": {},
   "outputs": [
    {
     "data": {
      "text/plain": [
       "(4000000, 4000000)"
      ]
     },
     "execution_count": 5,
     "metadata": {},
     "output_type": "execute_result"
    }
   ],
   "source": [
    "test.shape"
   ]
  }
 ],
 "metadata": {
  "kernelspec": {
   "display_name": "Python 3.10.2 64-bit ('3.10.2')",
   "language": "python",
   "name": "python3"
  },
  "language_info": {
   "codemirror_mode": {
    "name": "ipython",
    "version": 3
   },
   "file_extension": ".py",
   "mimetype": "text/x-python",
   "name": "python",
   "nbconvert_exporter": "python",
   "pygments_lexer": "ipython3",
   "version": "3.10.2"
  },
  "orig_nbformat": 4,
  "vscode": {
   "interpreter": {
    "hash": "0b0ef6e9b4263cd5b5701e9a8bec4b669e6d0deb6851fa2dee2e6e4c780046d2"
   }
  }
 },
 "nbformat": 4,
 "nbformat_minor": 2
}
