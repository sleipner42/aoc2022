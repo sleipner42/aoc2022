{
 "cells": [
  {
   "cell_type": "code",
   "execution_count": 88,
   "metadata": {},
   "outputs": [],
   "source": [
    "from tqdm import tqdm\n",
    "\n",
    "with open('data.txt') as file:\n",
    "    data = file.read().splitlines()"
   ]
  },
  {
   "cell_type": "code",
   "execution_count": 89,
   "metadata": {},
   "outputs": [
    {
     "name": "stdout",
     "output_type": "stream",
     "text": [
      "58.6 µs ± 338 ns per loop (mean ± std. dev. of 7 runs, 10,000 loops each)\n"
     ]
    }
   ],
   "source": [
    "%%timeit\n",
    "non_allowed = []\n",
    "\n",
    "row = 2000000\n",
    "\n",
    "for line in data:\n",
    "    s, b = line.split(':')\n",
    "    s_x,s_y = [int(a) for a in re.sub('[A-Za-z =]', '', s).split(',')]\n",
    "    b_x,b_y = [int(a) for a in re.sub('[A-Za-z =]', '', b).split(',')]\n",
    "\n",
    "    d_x = abs(s_x - b_x)\n",
    "    d_y = abs(s_y - b_y)\n",
    "\n",
    "    dist = d_x + d_y\n",
    "\n",
    "    dist_row_y = abs(row - s_y)\n",
    "    \n",
    "    temp = dist - dist_row_y\n",
    "\n",
    "    non_allowed+=list(range(s_x - temp, s_x + temp + 1))\n",
    "\n",
    "len(set(non_allowed))"
   ]
  },
  {
   "cell_type": "code",
   "execution_count": 97,
   "metadata": {},
   "outputs": [
    {
     "name": "stderr",
     "output_type": "stream",
     "text": [
      " 55%|█████▌    | 11/20 [00:00<00:00, 9650.15it/s]"
     ]
    },
    {
     "name": "stdout",
     "output_type": "stream",
     "text": [
      "11\n",
      "{14}\n"
     ]
    },
    {
     "name": "stderr",
     "output_type": "stream",
     "text": [
      "\n"
     ]
    }
   ],
   "source": [
    "limit = 20\n",
    "\n",
    "for row in tqdm(range(limit)):\n",
    "\n",
    "    non_allowed = []\n",
    "\n",
    "    for line in data:\n",
    "        s, b = line.split(':')\n",
    "        s_x,s_y = [int(a) for a in re.sub('[A-Za-z =]', '', s).split(',')]\n",
    "        b_x,b_y = [int(a) for a in re.sub('[A-Za-z =]', '', b).split(',')]\n",
    "\n",
    "        d_x = abs(s_x - b_x)\n",
    "        d_y = abs(s_y - b_y)\n",
    "\n",
    "        dist = d_x + d_y\n",
    "\n",
    "        dist_row_y = abs(row - s_y)\n",
    "        \n",
    "        temp = dist - dist_row_y\n",
    "\n",
    "        non_allowed+=list(range(max(s_x - temp, 0), min(s_x + temp + 1, limit)))\n",
    "\n",
    "    if len(na:=set(non_allowed)) < limit:\n",
    "        print(row)\n",
    "        print(set(range(limit)) - na)\n",
    "        break"
   ]
  }
 ],
 "metadata": {
  "kernelspec": {
   "display_name": "Python 3.10.2 64-bit ('3.10.2')",
   "language": "python",
   "name": "python3"
  },
  "language_info": {
   "codemirror_mode": {
    "name": "ipython",
    "version": 3
   },
   "file_extension": ".py",
   "mimetype": "text/x-python",
   "name": "python",
   "nbconvert_exporter": "python",
   "pygments_lexer": "ipython3",
   "version": "3.10.2"
  },
  "orig_nbformat": 4,
  "vscode": {
   "interpreter": {
    "hash": "0b0ef6e9b4263cd5b5701e9a8bec4b669e6d0deb6851fa2dee2e6e4c780046d2"
   }
  }
 },
 "nbformat": 4,
 "nbformat_minor": 2
}
