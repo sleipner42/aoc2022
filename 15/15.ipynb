{
 "cells": [
  {
   "cell_type": "code",
   "execution_count": 101,
   "metadata": {},
   "outputs": [],
   "source": [
    "from tqdm import tqdm\n",
    "import re\n",
    "\n",
    "with open('data.txt') as file:\n",
    "    data = file.read().splitlines()"
   ]
  },
  {
   "cell_type": "code",
   "execution_count": 108,
   "metadata": {},
   "outputs": [
    {
     "data": {
      "text/plain": [
       "4919282"
      ]
     },
     "execution_count": 108,
     "metadata": {},
     "output_type": "execute_result"
    }
   ],
   "source": [
    "non_allowed = []\n",
    "\n",
    "row = 2000000\n",
    "x\n",
    "for line in data:\n",
    "    s, b = line.split(':')\n",
    "    s_x,s_y = [int(a) for a in re.sub('[A-Za-z =]', '', s).split(',')]\n",
    "    b_x,b_y = [int(a) for a in re.sub('[A-Za-z =]', '', b).split(',')]\n",
    "\n",
    "    d_x = abs(s_x - b_x)\n",
    "    d_y = abs(s_y - b_y)\n",
    "\n",
    "    dist = d_x + d_y\n",
    "\n",
    "    dist_row_y = abs(row - s_y)\n",
    "    \n",
    "    temp = dist - dist_row_y\n",
    "\n",
    "    non_allowed+=list(range(s_x - temp, s_x + temp + 1))\n",
    "\n",
    "len(set(non_allowed))"
   ]
  },
  {
   "cell_type": "code",
   "execution_count": 107,
   "metadata": {},
   "outputs": [
    {
     "name": "stderr",
     "output_type": "stream",
     "text": [
      "  0%|          | 35/4000000 [00:07<243:31:56,  4.56it/s]\n"
     ]
    },
    {
     "ename": "KeyboardInterrupt",
     "evalue": "",
     "output_type": "error",
     "traceback": [
      "\u001b[0;31m---------------------------------------------------------------------------\u001b[0m",
      "\u001b[0;31mKeyboardInterrupt\u001b[0m                         Traceback (most recent call last)",
      "\u001b[1;32m/Users/kristoffer/github/aoc2022/15/15.ipynb Cell 3\u001b[0m in \u001b[0;36m<cell line: 3>\u001b[0;34m()\u001b[0m\n\u001b[1;32m     <a href='vscode-notebook-cell:/Users/kristoffer/github/aoc2022/15/15.ipynb#X13sZmlsZQ%3D%3D?line=18'>19</a>\u001b[0m     temp \u001b[39m=\u001b[39m dist \u001b[39m-\u001b[39m dist_row_y\n\u001b[1;32m     <a href='vscode-notebook-cell:/Users/kristoffer/github/aoc2022/15/15.ipynb#X13sZmlsZQ%3D%3D?line=20'>21</a>\u001b[0m     non_allowed\u001b[39m+\u001b[39m\u001b[39m=\u001b[39m\u001b[39mlist\u001b[39m(\u001b[39mrange\u001b[39m(\u001b[39mmax\u001b[39m(s_x \u001b[39m-\u001b[39m temp, \u001b[39m0\u001b[39m), \u001b[39mmin\u001b[39m(s_x \u001b[39m+\u001b[39m temp \u001b[39m+\u001b[39m \u001b[39m1\u001b[39m, limit)))\n\u001b[0;32m---> <a href='vscode-notebook-cell:/Users/kristoffer/github/aoc2022/15/15.ipynb#X13sZmlsZQ%3D%3D?line=22'>23</a>\u001b[0m \u001b[39mif\u001b[39;00m \u001b[39mlen\u001b[39m(\u001b[39mset\u001b[39;49m(non_allowed)) \u001b[39m<\u001b[39m limit:\n\u001b[1;32m     <a href='vscode-notebook-cell:/Users/kristoffer/github/aoc2022/15/15.ipynb#X13sZmlsZQ%3D%3D?line=23'>24</a>\u001b[0m     \u001b[39mprint\u001b[39m(row)\n\u001b[1;32m     <a href='vscode-notebook-cell:/Users/kristoffer/github/aoc2022/15/15.ipynb#X13sZmlsZQ%3D%3D?line=24'>25</a>\u001b[0m     \u001b[39mbreak\u001b[39;00m\n",
      "\u001b[0;31mKeyboardInterrupt\u001b[0m: "
     ]
    }
   ],
   "source": [
    "limit = 4000000\n",
    "\n",
    "for row in tqdm(range(limit)):\n",
    "\n",
    "    non_allowed = []\n",
    "\n",
    "    for line in data:\n",
    "        s, b = line.split(':')\n",
    "        s_x,s_y = [int(a) for a in re.sub('[A-Za-z =]', '', s).split(',')]\n",
    "        b_x,b_y = [int(a) for a in re.sub('[A-Za-z =]', '', b).split(',')]\n",
    "\n",
    "        d_x = abs(s_x - b_x)\n",
    "        d_y = abs(s_y - b_y)\n",
    "\n",
    "        dist = d_x + d_y\n",
    "\n",
    "        dist_row_y = abs(row - s_y)\n",
    "        \n",
    "        temp = dist - dist_row_y\n",
    "\n",
    "        non_allowed+=list(range(max(s_x - temp, 0), min(s_x + temp + 1, limit)))\n",
    "\n",
    "    if len(set(non_allowed)) < limit:\n",
    "        print(row)\n",
    "        break"
   ]
  }
 ],
 "metadata": {
  "kernelspec": {
   "display_name": "Python 3.10.2 64-bit ('3.10.2')",
   "language": "python",
   "name": "python3"
  },
  "language_info": {
   "codemirror_mode": {
    "name": "ipython",
    "version": 3
   },
   "file_extension": ".py",
   "mimetype": "text/x-python",
   "name": "python",
   "nbconvert_exporter": "python",
   "pygments_lexer": "ipython3",
   "version": "3.10.2"
  },
  "orig_nbformat": 4,
  "vscode": {
   "interpreter": {
    "hash": "0b0ef6e9b4263cd5b5701e9a8bec4b669e6d0deb6851fa2dee2e6e4c780046d2"
   }
  }
 },
 "nbformat": 4,
 "nbformat_minor": 2
}
